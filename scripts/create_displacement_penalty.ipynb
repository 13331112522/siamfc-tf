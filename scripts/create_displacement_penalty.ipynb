{
 "cells": [
  {
   "cell_type": "code",
   "execution_count": 1,
   "metadata": {
    "collapsed": true
   },
   "outputs": [],
   "source": [
    "# Read a dataset and create a 2d histogram of (consecutive frames) displacement\n",
    "# Displacements are divided by object's sqrt(A), assuming bigger objects on average move more pixels\n",
    "# During tracking, 2d histogram is used as a prior, to penalize large displacements for the previous position."
   ]
  },
  {
   "cell_type": "code",
   "execution_count": 162,
   "metadata": {
    "collapsed": true
   },
   "outputs": [],
   "source": [
    "def rect(region):\n",
    "    x = region[0]\n",
    "    y = region[1]\n",
    "    w = region[2]\n",
    "    h = region[3]\n",
    "    cx = x+w/2\n",
    "    cy = y+h/2\n",
    "    c = np.asarray([cx,cy])\n",
    "    sz = np.asarray([w,h])\n",
    "    return c, sz"
   ]
  },
  {
   "cell_type": "code",
   "execution_count": 163,
   "metadata": {
    "collapsed": true
   },
   "outputs": [],
   "source": [
    "def poly(region):\n",
    "    cx = np.mean(region[::2])\n",
    "    cy = np.mean(region[1::2])\n",
    "    x1 = np.min(region[::2])\n",
    "    x2 = np.max(region[::2])\n",
    "    y1 = np.min(region[1::2])\n",
    "    y2 = np.max(region[1::2])\n",
    "    A1 = np.linalg.norm(region[0:2] - region[2:4]) * np.linalg.norm(region[2:4] - region[4:6])\n",
    "    A2 = (x2 - x1) * (y2 - y1)\n",
    "    s = np.sqrt(A1/A2)\n",
    "    w = s * (x2 - x1) + 1\n",
    "    h = s * (y2 - y1) + 1\n",
    "    c = np.asarray([cx,cy])\n",
    "    sz = np.asarray([w,h])\n",
    "    return c, sz"
   ]
  },
  {
   "cell_type": "code",
   "execution_count": 164,
   "metadata": {
    "collapsed": false
   },
   "outputs": [],
   "source": [
    "import os\n",
    "import numpy as np\n",
    "import matplotlib.pyplot as plt\n",
    "import scipy.io\n",
    "from tqdm import tqdm"
   ]
  },
  {
   "cell_type": "code",
   "execution_count": 165,
   "metadata": {
    "collapsed": false
   },
   "outputs": [],
   "source": [
    "root = '/home/berti/datasets'\n",
    "dataset = 'validation'\n",
    "gt_name = 'groundtruth.txt'\n",
    "out_mat = '../data/displacement_prior.validation.mat'\n",
    "resp_sz = 33\n",
    "upsampling = 9\n",
    "stride = 4\n",
    "exemplar_sz = 127\n",
    "dist = []\n",
    "dist_in_response = np.zeros((resp_sz*upsampling,resp_sz*upsampling))\n",
    "penalty = np.zeros_like(dist_in_response)\n",
    "center = np.ceil(resp_sz*upsampling/2)\n",
    "c = np.asarray([center,center])\n",
    "for i in xrange(resp_sz*upsampling):\n",
    "    for j in xrange(resp_sz*upsampling):\n",
    "        d = np.linalg.norm(np.asarray([i,j]) - c)\n",
    "        dist_in_response[i,j] = d * stride / (exemplar_sz * upsampling)\n",
    "        "
   ]
  },
  {
   "cell_type": "code",
   "execution_count": 166,
   "metadata": {
    "collapsed": false
   },
   "outputs": [],
   "source": [
    "video_dirs = [d for d in os.listdir(os.path.join(root, dataset)) if os.path.isdir(os.path.join(root, dataset))]"
   ]
  },
  {
   "cell_type": "code",
   "execution_count": 167,
   "metadata": {
    "collapsed": false,
    "scrolled": false
   },
   "outputs": [
    {
     "name": "stderr",
     "output_type": "stream",
     "text": [
      "100%|██████████| 129/129 [00:01<00:00, 72.05it/s]\n"
     ]
    }
   ],
   "source": [
    "# collect displacement stats from the dataset\n",
    "for i in tqdm(xrange(len(video_dirs))):\n",
    "    lines = np.loadtxt(os.path.join(root, dataset,video_dirs[i],gt_name), delimiter=',')\n",
    "    # check if ground truth is saved as rectangle or polygon\n",
    "    if len(lines[0])==4:\n",
    "        map2rect = rect\n",
    "    else:\n",
    "        if len(lines[0])==8:\n",
    "            map2rect = poly\n",
    "        else:\n",
    "            raise ValueError('Problem with the GT, it should have 4 or 8 columns.')\n",
    "\n",
    "    # get rect center <cx,cy> and <w,h>                \n",
    "    [c0,sz0] = map2rect(lines[0])\n",
    "\n",
    "    for j in range(1,len(lines)):        \n",
    "        [c1,sz1] = map2rect(lines[j])\n",
    "        # compute dist with next frame and divide by sqrt of avg area\n",
    "        d = np.linalg.norm(c1-c0) / np.sqrt(0.5*np.prod(sz0) + 0.5*np.prod(sz1))\n",
    "        dist.append(d)\n",
    "        c0 = c1\n",
    "        sz0 = sz1"
   ]
  },
  {
   "cell_type": "code",
   "execution_count": 180,
   "metadata": {
    "collapsed": false
   },
   "outputs": [
    {
     "data": {
      "image/png": "[encoded data removed]",
      "text/plain": [
       "<matplotlib.figure.Figure at 0x7fa52802f9d0>"
      ]
     },
     "metadata": {},
     "output_type": "display_data"
    }
   ],
   "source": [
    "bins = np.linspace(0, np.max(dist_in_response), 50)\n",
    "# bins = np.insert(bins, 1, 1e-3) # add an extra bin for 0 distance entries\n",
    "dist_limited = [d for d in dist if d<=np.max(dist_in_response)]\n",
    "n = plt.hist(dist_limited, bins=bins, normed=0)\n",
    "# plt.xscale('log')\n",
    "plt.show()\n"
   ]
  },
  {
   "cell_type": "code",
   "execution_count": 177,
   "metadata": {
    "collapsed": false
   },
   "outputs": [],
   "source": [
    "densities = n[0]\n",
    "densities_n = densities/np.sum(densities)"
   ]
  },
  {
   "cell_type": "code",
   "execution_count": 178,
   "metadata": {
    "collapsed": false
   },
   "outputs": [],
   "source": [
    "for i in xrange(resp_sz*upsampling):\n",
    "    for j in xrange(resp_sz*upsampling):\n",
    "        # find the bin with the dist_in_response value and save in penalty\n",
    "        idx = np.where(bins>=dist_in_response[i,j])[0][0]-1\n",
    "        penalty[i,j] = densities_n[idx]\n",
    "        \n",
    "penalty = penalty/np.sum(penalty)"
   ]
  },
  {
   "cell_type": "code",
   "execution_count": 179,
   "metadata": {
    "collapsed": false
   },
   "outputs": [
    {
     "data": {
      "image/png": "[encoded data removed]",
      "text/plain": [
       "<matplotlib.figure.Figure at 0x7fa5287e1cd0>"
      ]
     },
     "metadata": {},
     "output_type": "display_data"
    }
   ],
   "source": [
    "plt.imshow(penalty)\n",
    "plt.show()"
   ]
  },
  {
   "cell_type": "code",
   "execution_count": 175,
   "metadata": {
    "collapsed": false
   },
   "outputs": [],
   "source": [
    "scipy.io.savemat(out_mat, mdict={'penalty':penalty})"
   ]
  },
  {
   "cell_type": "code",
   "execution_count": null,
   "metadata": {
    "collapsed": true
   },
   "outputs": [],
   "source": []
  }
 ],
 "metadata": {
  "anaconda-cloud": {},
  "kernelspec": {
   "display_name": "Python [conda root]",
   "language": "python",
   "name": "conda-root-py"
  },
  "language_info": {
   "codemirror_mode": {
    "name": "ipython",
    "version": 2
   },
   "file_extension": ".py",
   "mimetype": "text/x-python",
   "name": "python",
   "nbconvert_exporter": "python",
   "pygments_lexer": "ipython2",
   "version": "2.7.12"
  }
 },
 "nbformat": 4,
 "nbformat_minor": 1
}
