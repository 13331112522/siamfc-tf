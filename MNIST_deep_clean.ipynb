{
 "cells": [
  {
   "cell_type": "code",
   "execution_count": null,
   "metadata": {
    "collapsed": false
   },
   "outputs": [],
   "source": [
    "%matplotlib inline\n",
    "import tensorflow as tf\n",
    "import numpy as np\n",
    "import matplotlib.pyplot as plt"
   ]
  },
  {
   "cell_type": "code",
   "execution_count": null,
   "metadata": {
    "collapsed": false
   },
   "outputs": [],
   "source": [
    "from tensorflow.examples.tutorials.mnist import input_data\n",
    "mnist = input_data.read_data_sets('MNIST_data/', one_hot=True)\n",
    "im = mnist.train.images[0, :]"
   ]
  },
  {
   "cell_type": "code",
   "execution_count": null,
   "metadata": {
    "collapsed": true
   },
   "outputs": [],
   "source": [
    "def convolutional(X, height, width, n_input, n_output, activation=True, scope=None):\n",
    "    # use the input scope or default to \"conv\"\n",
    "    with tf.variable_scope(scope or 'conv'):\n",
    "        W = tf.get_variable(\n",
    "            name='W',\n",
    "            shape=[height, width, n_input, n_output],\n",
    "            initializer=tf.truncated_normal_initializer(stddev=0.1))\n",
    "        b = tf.get_variable(\n",
    "            name='b',\n",
    "            shape=[n_output],\n",
    "            initializer=tf.constant_initializer())\n",
    "        h = tf.nn.conv2d(X, W, strides=[1,1,1,1], padding='SAME') + b        \n",
    "        if activation:\n",
    "            h = tf.nn.relu(h)\n",
    "        return h"
   ]
  },
  {
   "cell_type": "code",
   "execution_count": null,
   "metadata": {
    "collapsed": true
   },
   "outputs": [],
   "source": [
    "def fc(X, n_input, n_output, activation=True, scope=None):\n",
    "    # use the input scope or default to \"conv\"\n",
    "    with tf.variable_scope(scope or 'fc'):\n",
    "        W = tf.get_variable(\n",
    "            name='W',\n",
    "            shape=[n_input, n_output],\n",
    "            initializer=tf.truncated_normal_initializer(stddev=0.1))\n",
    "        b = tf.get_variable(\n",
    "            name='b',\n",
    "            shape=[n_output],\n",
    "            initializer=tf.constant_initializer())\n",
    "        h = tf.reshape(X, [-1, n_input])\n",
    "        h = tf.matmul(h, W) + b\n",
    "        if activation:\n",
    "            h = tf.nn.relu(h)\n",
    "        return h"
   ]
  },
  {
   "cell_type": "code",
   "execution_count": null,
   "metadata": {
    "collapsed": true
   },
   "outputs": [],
   "source": [
    "# placeholder for images (in batches)\n",
    "X = tf.placeholder(tf.float32)\n",
    "# placeholder for labels (one-hot format)\n",
    "y_ = tf.placeholder(tf.float32, shape=[None, 10])\n",
    "keep_prob = tf.placeholder(tf.float32)\n",
    "X1 = tf.expand_dims(X, 1)\n",
    "X2 = tf.reshape(X1, [-1, 28, 28, 1])\n",
    "h1 = convolutional(X2, 5, 5, 1, 32, scope='conv1')\n",
    "h2 = tf.nn.max_pool(h1, ksize=[1,2,2,1], strides=[1,2,2,1], padding='SAME')\n",
    "h3 = convolutional(h2, 5, 5, 32, 64, scope='conv2')\n",
    "h4 = tf.nn.max_pool(h3, ksize=[1,2,2,1], strides=[1,2,2,1], padding='SAME')\n",
    "h5 = fc(h4, 7*7*64, 1024, scope='fc3')\n",
    "h5_drop = tf.nn.dropout(h5, keep_prob)\n",
    "y = fc(h5_drop, 1024, 10, scope='fc4')"
   ]
  },
  {
   "cell_type": "code",
   "execution_count": null,
   "metadata": {
    "collapsed": true
   },
   "outputs": [],
   "source": [
    "# The loss we want to minimize\n",
    "cross_entropy = tf.reduce_mean(tf.nn.softmax_cross_entropy_with_logits(y, y_))\n",
    "\n",
    "# The solver\n",
    "train_step = tf.train.AdamOptimizer(1e-4).minimize(cross_entropy)\n",
    "\n",
    "# Performance measure\n",
    "correct_prediction = tf.equal(tf.argmax(y,1), tf.argmax(y_,1))\n",
    "accuracy = tf.reduce_mean(tf.cast(correct_prediction, tf.float32))\n",
    "\n",
    "# Setup the training\n",
    "n_epochs = 20000\n",
    "batch_sz = 50\n",
    "print_err_every = 100"
   ]
  },
  {
   "cell_type": "code",
   "execution_count": null,
   "metadata": {
    "collapsed": false
   },
   "outputs": [],
   "source": [
    "with tf.Session() as sess:\n",
    "    sess.run(tf.initialize_all_variables())\n",
    "    for i in range(n_epochs):\n",
    "        batch = mnist.train.next_batch(batch_sz)\n",
    "        if i%print_err_every==0:\n",
    "            train_accuracy = sess.run(accuracy, feed_dict={X:batch[0], y_: batch[1], keep_prob:1.0})\n",
    "            print(\"step %d, training accuracy %g\"%(i, train_accuracy))\n",
    "            \n",
    "        sess.run(train_step, feed_dict={X: batch[0], y_: batch[1], keep_prob:0.5})"
   ]
  },
  {
   "cell_type": "code",
   "execution_count": null,
   "metadata": {
    "collapsed": true
   },
   "outputs": [],
   "source": []
  }
 ],
 "metadata": {
  "anaconda-cloud": {},
  "kernelspec": {
   "display_name": "Python [conda root]",
   "language": "python",
   "name": "conda-root-py"
  },
  "language_info": {
   "codemirror_mode": {
    "name": "ipython",
    "version": 2
   },
   "file_extension": ".py",
   "mimetype": "text/x-python",
   "name": "python",
   "nbconvert_exporter": "python",
   "pygments_lexer": "ipython2",
   "version": "2.7.12"
  }
 },
 "nbformat": 4,
 "nbformat_minor": 1
}
