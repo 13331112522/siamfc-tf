{
 "cells": [
  {
   "cell_type": "code",
   "execution_count": 1,
   "metadata": {},
   "outputs": [
    {
     "name": "stdout",
     "output_type": "stream",
     "text": [
      "Using Tensorflow 1.1.0\n"
     ]
    }
   ],
   "source": [
    "import tensorflow as tf\n",
    "print('Using Tensorflow '+tf.__version__)\n",
    "assert tf.__version__>='1.0.0', ('You should use Tensorflow 1.0 or superior')\n",
    "from PIL import Image\n",
    "import matplotlib.pyplot as plt\n",
    "import sys\n",
    "sys.path.append('../')\n",
    "import os.path\n",
    "import csv\n",
    "import numpy as np\n",
    "import time"
   ]
  },
  {
   "cell_type": "code",
   "execution_count": 2,
   "metadata": {},
   "outputs": [],
   "source": [
    "from src.argparse import argparse\n",
    "from src.region_to_bbox import region_to_bbox\n",
    "from src.pprint_params import pprint_params\n",
    "from src.crops import extract_crops_z, extract_crops_x, pad_frame\n",
    "from src.siamese import siamese, match_templates\n",
    "from src.visualization import show_frame, show_crops, show_scores"
   ]
  },
  {
   "cell_type": "code",
   "execution_count": 3,
   "metadata": {
    "collapsed": true
   },
   "outputs": [],
   "source": [
    "# read default parameters and override with custom ones\n",
    "hp = {\"z_lr\":0.006}\n",
    "evaluation = {\"video\": \"vot2016_ball1\"}\n",
    "run = {\"visualization\":0,\"debug\":0}\n",
    "hp,evaluation,run,env,design = argparse(hp, evaluation, run)"
   ]
  },
  {
   "cell_type": "code",
   "execution_count": 4,
   "metadata": {
    "collapsed": true
   },
   "outputs": [],
   "source": [
    "video_folder = os.path.join(env.root_dataset, evaluation.dataset, evaluation.video)\n",
    "frame_name_list = [f for f in os.listdir(video_folder) if f.endswith(\".jpg\")]\n",
    "frame_name_list = [os.path.join(env.root_dataset, evaluation.dataset, evaluation.video, '') + s for s in frame_name_list]\n",
    "frame_name_list.sort()\n",
    "num_frames = np.size(frame_name_list)\n",
    "\n",
    "with Image.open(frame_name_list[0]) as img:\n",
    "    frame_sz = np.asarray(img.size)\n",
    "    frame_sz[1], frame_sz[0] = frame_sz[0], frame_sz[1]"
   ]
  },
  {
   "cell_type": "code",
   "execution_count": 5,
   "metadata": {
    "collapsed": true
   },
   "outputs": [],
   "source": [
    "# read the initialization from ground truth\n",
    "gt_file = os.path.join(video_folder, 'groundtruth.txt')\n",
    "gt = np.genfromtxt(gt_file, delimiter=',')\n",
    "assert len(gt) == len(frame_name_list), ('Number of frames and number of GT lines should be equal.')\n",
    "# stores tracker's output for evaluation\n",
    "bboxes = np.zeros((num_frames,4))"
   ]
  },
  {
   "cell_type": "code",
   "execution_count": 6,
   "metadata": {
    "collapsed": true
   },
   "outputs": [],
   "source": [
    "scale_factors = hp.scale_step**np.linspace(-np.ceil(hp.scale_num/2), np.ceil(hp.scale_num/2), hp.scale_num)\n",
    "# cosine window to penalize large displacements\n",
    "final_score_sz = int(hp.response_up * design.score_sz)\n",
    "hann_1d = np.expand_dims(np.hanning(final_score_sz), axis=0)\n",
    "penalty = np.transpose(hann_1d) * hann_1d\n",
    "penalty = penalty / np.sum(penalty)"
   ]
  },
  {
   "cell_type": "code",
   "execution_count": 7,
   "metadata": {
    "collapsed": true
   },
   "outputs": [],
   "source": [
    "## tracker's state initializations\n",
    "# bbox is in format <cx,cy,w,h>\n",
    "pos_x,pos_y,target_w,target_h = region_to_bbox(gt[evaluation.start_frame])\n",
    "context = design.context*(target_w+target_h)\n",
    "z_sz = np.sqrt(np.prod((target_w+context)*(target_h+context)))\n",
    "x_sz = design.search_sz/design.exemplar_sz * z_sz"
   ]
  },
  {
   "cell_type": "code",
   "execution_count": 8,
   "metadata": {
    "collapsed": true
   },
   "outputs": [],
   "source": [
    "# thresholds to saturate patches shrinking/growing\n",
    "min_z = hp.scale_min * z_sz\n",
    "max_z = hp.scale_max * z_sz\n",
    "min_x = hp.scale_min * x_sz\n",
    "max_x = hp.scale_max * x_sz"
   ]
  },
  {
   "cell_type": "code",
   "execution_count": 9,
   "metadata": {
    "collapsed": true
   },
   "outputs": [],
   "source": [
    "#### DEFINE PLACEHOLDERS ####\n",
    "pos_x_ph = tf.placeholder(tf.float64)\n",
    "pos_y_ph = tf.placeholder(tf.float64)\n",
    "z_sz_ph = tf.placeholder(tf.float64)\n",
    "x_sz0_ph = tf.placeholder(tf.float64)\n",
    "x_sz1_ph = tf.placeholder(tf.float64)\n",
    "x_sz2_ph = tf.placeholder(tf.float64)"
   ]
  },
  {
   "cell_type": "code",
   "execution_count": 10,
   "metadata": {
    "scrolled": true
   },
   "outputs": [
    {
     "name": "stdout",
     "output_type": "stream",
     "text": [
      "> Layer 1\n",
      "\t\tCONV: setting br_conv1f br_conv1b\n",
      "\t\tCONV: stride 2, filter-group False\n",
      "\t\tBNORM: setting br_bn1b br_bn1m br_bn1x\n",
      "\t\tMAX-POOL: size 3 and stride 2\n",
      "> Layer 2\n",
      "\t\tCONV: setting br_conv2f br_conv2b\n",
      "\t\tCONV: stride 1, filter-group True\n",
      "\t\tBNORM: setting br_bn2b br_bn2m br_bn2x\n",
      "\t\tMAX-POOL: size 3 and stride 1\n",
      "> Layer 3\n",
      "\t\tCONV: setting br_conv3f br_conv3b\n",
      "\t\tCONV: stride 1, filter-group False\n",
      "\t\tBNORM: setting br_bn3b br_bn3m br_bn3x\n",
      "> Layer 4\n",
      "\t\tCONV: setting br_conv4f br_conv4b\n",
      "\t\tCONV: stride 1, filter-group True\n",
      "\t\tBNORM: setting br_bn4b br_bn4m br_bn4x\n",
      "> Layer 5\n",
      "\t\tCONV: setting br_conv5f br_conv5b\n",
      "\t\tCONV: stride 1, filter-group True\n"
     ]
    }
   ],
   "source": [
    "#### BUILD THE GRAPH #####\n",
    "\n",
    "# Make a queue of file names\n",
    "filename_queue = tf.train.string_input_producer(frame_name_list, shuffle=False, capacity=num_frames)\n",
    "\n",
    "image_reader = tf.WholeFileReader()\n",
    "# Read a whole file from the queue\n",
    "_, image_file = image_reader.read(filename_queue)\n",
    "\n",
    "# Decode the image as a JPEG file, this will turn it into a Tensor\n",
    "image = tf.cast(tf.image.decode_jpeg(image_file), tf.int32)\n",
    "\n",
    "# used to pad the crops\n",
    "avg_chan = tf.cast(tf.reduce_mean(image, axis=(0,1)), tf.int32)\n",
    "\n",
    "# pad with avg color if necessary\n",
    "frame_padded_z, npad_z = pad_frame(image, frame_sz, pos_x_ph, pos_y_ph, z_sz_ph, avg_chan);\n",
    "\n",
    "# extract tensor of z_crops (all identical)\n",
    "z_crops = extract_crops_z(frame_padded_z, npad_z, pos_x_ph, pos_y_ph, z_sz_ph, design.exemplar_sz)\n",
    "\n",
    "frame_padded_x, npad_x = pad_frame(image, frame_sz, pos_x_ph, pos_y_ph, x_sz2_ph, avg_chan);\n",
    "\n",
    "# extract tensor of x_crops (3 scales)\n",
    "x_crops = extract_crops_x(frame_padded_x, npad_x, pos_x_ph, pos_y_ph, x_sz0_ph, x_sz1_ph, x_sz2_ph, design.search_sz)\n",
    "\n",
    "# use crops as input of (MatConvnet imported) pre-trained fully-convolutional Siamese net\n",
    "template_z, template_x, p_names_list, p_val_list = siamese(os.path.join(env.root_pretrained,design.net), x_crops, z_crops)\n",
    "\n",
    "scores = match_templates(template_z, template_x, p_names_list, p_val_list)\n",
    "# upsample the score maps\n",
    "scores_up = tf.image.resize_images(scores, [final_score_sz, final_score_sz])"
   ]
  },
  {
   "cell_type": "code",
   "execution_count": 11,
   "metadata": {
    "scrolled": true
   },
   "outputs": [
    {
     "name": "stdout",
     "output_type": "stream",
     "text": [
      "(494.182446315, 401.371802097, 41.0, 43.0)\n",
      "(498.13510737, 376.338282085, 41.0, 43.0)\n",
      "(499.452661055, 367.115406291, 41.0, 43.0)\n",
      "(498.630198011, 368.890946258, 40.0696153846, 42.0242307692)\n",
      "(502.493164065, 380.479844419, 40.0696153846, 42.0242307692)\n",
      "(511.246650726, 407.662882864, 41.0152583077, 43.0160026154)\n",
      "(512.564694743, 419.525279021, 41.0152583077, 43.0160026154)\n",
      "(510.731564839, 374.495744932, 41.9832184038, 44.0311802771)\n",
      "(511.617152655, 336.689452595, 42.9740223581, 45.0703161316)\n",
      "(509.696478039, 312.12674328, 43.9882092857, 46.1339755924)\n",
      "(511.577078762, 300.216652863, 42.9900153058, 45.0870892231)\n",
      "(513.415004316, 299.378063688, 42.0144726508, 44.0639591215)\n",
      "(512.572190875, 314.392697364, 41.0610673099, 43.064046203)\n",
      "(511.252674765, 339.463503467, 41.0610673099, 43.064046203)\n",
      "(512.572190875, 375.090438455, 41.0610673099, 43.064046203)\n",
      "(495.418481437, 365.85382568, 41.0610673099, 43.064046203)\n",
      "(520.489287539, 406.758825111, 41.0610673099, 43.064046203)\n",
      "(519.169771429, 368.492857902, 41.0610673099, 43.064046203)\n",
      "(528.406384203, 343.422051799, 41.0610673099, 43.064046203)\n",
      "(535.320135615, 329.725357397, 40.1292969363, 42.0868236161)\n",
      "(539.188855351, 325.856637661, 40.1292969363, 42.0868236161)\n",
      "(547.955379863, 337.240077706, 41.076348344, 43.0800726534)\n",
      "(549.275387036, 359.680199658, 41.076348344, 43.0800726534)\n",
      "(561.155451599, 397.960407694, 41.076348344, 43.0800726534)\n",
      "(548.510316602, 352.863804519, 42.0457501649, 44.0967623681)\n",
      "(532.800663012, 306.702921509, 43.0380298688, 45.1374459599)\n",
      "(518.420695117, 268.016854634, 42.0613976525, 44.1131731478)\n",
      "(507.009021574, 246.060542068, 41.106927475, 43.1121434494)\n",
      "(492.478133246, 236.813613132, 41.106927475, 43.1121434494)\n",
      "(478.743389831, 241.175810764, 40.1741164285, 42.133829425)\n",
      "(464.542240892, 257.958986782, 40.1741164285, 42.133829425)\n",
      "(446.888927346, 287.855881162, 41.1222255762, 43.1281877994)\n",
      "(407.17630085, 329.279689624, 42.0927100998, 44.1460130315)\n",
      "(399.756649887, 335.681723653, 43.0860980582, 45.187858939)\n",
      "(409.169108205, 364.911129743, 44.1029299723, 46.25429241)\n",
      "(402.082769438, 346.486648946, 44.1029299723, 46.25429241)\n",
      "(397.210209046, 335.785841388, 45.1437591197, 47.3458937109)\n",
      "(395.192560536, 336.712111995, 46.2091518349, 48.4632568024)\n",
      "(388.460580872, 361.933321314, 45.1605595433, 47.3635136673)\n",
      "(384.718011029, 392.255494523, 44.1357622305, 46.2887262418)\n",
      "(383.299688196, 436.223502351, 44.1357622305, 46.2887262418)\n",
      "(385.186597159, 443.679390436, 43.1342199338, 45.2383282232)\n",
      "(389.740054102, 407.616226438, 42.155404943, 44.2117661597)\n",
      "(386.246529025, 380.315072429, 41.1988015231, 43.2084991584)\n",
      "(388.007875923, 369.160232093, 40.2639056424, 42.2279986006)\n",
      "(389.729253794, 368.374820058, 39.3502247067, 41.2697478631)\n",
      "(393.522866006, 382.284731501, 39.3502247067, 41.2697478631)\n",
      "(397.316478218, 406.310942176, 39.3502247067, 41.2697478631)\n",
      "(400.735287027, 443.360993265, 40.2788900097, 42.2437139127)\n",
      "(407.20718946, 434.300329858, 40.2788900097, 42.2437139127)\n",
      "(418.656249353, 390.079234451, 41.229471814, 43.240665561)\n",
      "(430.580600149, 362.255749262, 41.229471814, 43.240665561)\n",
      "(412.463542252, 338.690174624, 42.2024873488, 44.2611452682)\n",
      "(399.471731362, 334.00328593, 43.1984660502, 45.3057082966)\n",
      "(411.75066519, 337.731570481, 44.217949849, 46.3749230124)\n",
      "(401.047402346, 332.820850231, 45.2614934654, 47.4693711955)\n",
      "(402.002141612, 333.74953654, 46.3296647112, 48.5896483557)\n",
      "(402.979412725, 334.700139846, 47.4230447984, 49.7363640569)\n",
      "(400.859894157, 332.55332411, 48.5422286556, 50.9101422486)\n",
      "(401.883836767, 333.54932534, 49.6878252519, 52.1116216057)\n",
      "(399.663096435, 331.299984212, 50.8604579279, 53.3414558756)\n",
      "(400.735939432, 332.343551432, 52.060764735, 54.6003142342)\n",
      "(399.062943032, 330.670555032, 52.060764735, 54.6003142342)\n",
      "(400.735939432, 332.343551432, 52.060764735, 54.6003142342)\n",
      "(399.062943032, 330.670555032, 52.060764735, 54.6003142342)\n",
      "(398.018600226, 329.655026346, 50.8793858429, 53.3613071035)\n",
      "(399.653632478, 331.290058598, 50.8793858429, 53.3613071035)\n",
      "(398.018600226, 329.655026346, 50.8793858429, 53.3613071035)\n",
      "(399.653632478, 331.290058598, 50.8793858429, 53.3613071035)\n",
      "(398.018600226, 329.655026346, 50.8793858429, 53.3613071035)\n",
      "(399.653632478, 331.290058598, 50.8793858429, 53.3613071035)\n",
      "(398.018600226, 329.655026346, 50.8793858429, 53.3613071035)\n",
      "(399.653632478, 331.290058598, 50.8793858429, 53.3613071035)\n",
      "(398.018600226, 329.655026346, 50.8793858429, 53.3613071035)\n",
      "(396.997955969, 331.858401542, 49.7248151642, 52.1504159039)\n",
      "(398.595885566, 330.260471946, 49.7248151642, 52.1504159039)\n",
      "(396.997955969, 331.858401542, 49.7248151642, 52.1504159039)\n",
      "(398.595885566, 330.260471946, 49.7248151642, 52.1504159039)\n",
      "(394.47506431, 332.413847474, 48.5964443585, 50.9670026199)\n",
      "(399.160070969, 333.975516361, 48.5964443585, 50.9670026199)\n",
      "(400.721739855, 332.413847474, 48.5964443585, 50.9670026199)\n",
      "(399.160070969, 330.852178588, 48.5964443585, 50.9670026199)\n",
      "(398.185222687, 329.904227026, 47.4936788904, 49.8104437143)\n",
      "(399.711453703, 331.430458041, 47.4936788904, 49.8104437143)\n",
      "(395.132760657, 332.956689056, 47.4936788904, 49.8104437143)\n",
      "(389.885585044, 327.682175619, 48.6145297122, 50.9859701859)\n",
      "(391.447835111, 332.36892582, 48.6145297122, 50.9859701859)\n",
      "(402.687016101, 352.795807587, 47.5113538456, 49.8289808625)\n",
      "(394.312224802, 335.016679502, 48.6326217964, 51.0049448109)\n",
      "(392.749393338, 333.453848037, 48.6326217964, 51.0049448109)\n",
      "(393.775242688, 344.049989699, 49.7803516708, 52.2086615084)\n",
      "(386.522992824, 371.220379537, 48.6507206136, 51.0239264972)\n",
      "(382.491184502, 409.997695551, 47.546723492, 49.8660758575)\n",
      "(381.537393699, 456.854644233, 46.4677786128, 48.7344995207)\n",
      "(386.442757224, 420.923152027, 45.4133174827, 47.6286012624)\n",
      "(384.983379571, 390.276221305, 45.4133174827, 47.6286012624)\n",
      "(384.072385051, 372.275229656, 44.3827845091, 46.5477983876)\n",
      "(388.757646511, 365.833888873, 43.3756367068, 45.4915214242)\n",
      "(396.061118856, 375.88589865, 42.3913434123, 44.4592138226)\n",
      "(394.698853716, 388.146284905, 42.3913434123, 44.4592138226)\n",
      "(395.593050461, 422.482031101, 43.3917791168, 45.5084512688)\n",
      "(402.899240821, 459.793224005, 42.4071195138, 44.47575949)\n",
      "(409.713101379, 414.82174432, 42.4071195138, 44.47575949)\n",
      "(424.703594607, 372.575808858, 42.4071195138, 44.47575949)\n",
      "Speed: 7.64999953456\n"
     ]
    }
   ],
   "source": [
    "#### START TRACKING WITHIN A TF SESSION ####\n",
    "t_start = time.time()\n",
    "with tf.Session() as sess:\n",
    "    tf.global_variables_initializer().run()\n",
    "    # Coordinate the loading of image files.\n",
    "    coord = tf.train.Coordinator()\n",
    "    threads = tf.train.start_queue_runners(coord=coord)\n",
    "    \n",
    "    # save first frame position (from ground-truth)\n",
    "    bboxes[0,:] = pos_x-target_w/2, pos_y-target_h/2, target_w, target_h\n",
    "    \n",
    "    image_, template_z_ = sess.run([image, template_z], feed_dict={pos_x_ph:pos_x, pos_y_ph:pos_y, z_sz_ph:z_sz})\n",
    "    \n",
    "    if run.visualization:\n",
    "        show_frame(image_, bboxes[0,:], 1)\n",
    "        \n",
    "    if run.debug:\n",
    "        show_crops(z_crops_, 2)        \n",
    "\n",
    "    # Get an image from the queue\n",
    "    for i in xrange(evaluation.start_frame+1, num_frames):        \n",
    "        scaled_exemplar = z_sz * scale_factors\n",
    "        scaled_search_area = x_sz * scale_factors\n",
    "        scaled_target_w = target_w * scale_factors\n",
    "        scaled_target_h = target_h * scale_factors\n",
    "                \n",
    "        image_, scores_up_ = sess.run([image, scores_up], feed_dict={\n",
    "                                        pos_x_ph:pos_x,\n",
    "                                        pos_y_ph:pos_y,\n",
    "                                        x_sz0_ph:scaled_search_area[0],\n",
    "                                        x_sz1_ph:scaled_search_area[1],\n",
    "                                        x_sz2_ph:scaled_search_area[2],\n",
    "                                        template_z: template_z_})                \n",
    "        if run.debug:\n",
    "            show_crops(np.squeeze(x_crops_), 3)\n",
    "            show_scores(np.squeeze(scores_up_), 4)\n",
    "            \n",
    "        scores = np.squeeze(scores_up_)\n",
    "        # penalize change of scale\n",
    "        scores[0,:,:] = hp.scale_penalty*scores[0,:,:]\n",
    "        scores[2,:,:] = hp.scale_penalty*scores[2,:,:]\n",
    "        # find scale with highest peak (after penalty)\n",
    "        new_scale_id = np.argmax(np.amax(scores, axis=(1,2)))\n",
    "        # update scaled sizes\n",
    "        x_sz = (1-hp.scale_lr)*x_sz + hp.scale_lr*scaled_search_area[new_scale_id]        \n",
    "        target_w = (1-hp.scale_lr)*target_w + hp.scale_lr*scaled_target_w[new_scale_id]\n",
    "        target_h = (1-hp.scale_lr)*target_h + hp.scale_lr*scaled_target_h[new_scale_id]\n",
    "        # select response with new_scale_id\n",
    "        score = scores[new_scale_id,:,:]\n",
    "        score = score - np.min(score)\n",
    "        # apply displacement penalty\n",
    "        score = (1-hp.window_influence)*score + hp.window_influence*penalty\n",
    "        # find location of score maximizer\n",
    "        p = np.asarray(np.unravel_index(np.argmax(score), np.shape(score)))\n",
    "        # displacement from the center in search area final representation ...\n",
    "        disp_in_area = p - float(final_score_sz)/2\n",
    "        # displacement from the center in instance crop\n",
    "        disp_in_xcrop = disp_in_area * float(design.tot_stride) / hp.response_up\n",
    "        # displacement from the center in instance crop (in frame coordinates)\n",
    "        disp_in_frame = disp_in_xcrop *  x_sz / design.search_sz\n",
    "        # *position* within frame in frame coordinates\n",
    "        pos_y, pos_x = pos_y + disp_in_frame[0], pos_x + disp_in_frame[1]\n",
    "        # convert <cx,cy,w,h> to <x,y,w,h> and save output\n",
    "        bboxes[i,:] = pos_x-target_w/2, pos_y-target_h/2, target_w, target_h\n",
    "        print '('+str(bboxes[i,0])+', '+str(bboxes[i,1])+', '+str(bboxes[i,2])+', '+str(bboxes[i,3])+')'\n",
    "        \n",
    "        # update the target representation with a rolling average\n",
    "        if hp.z_lr>0:\n",
    "            new_template_z_ = sess.run([template_z], feed_dict={pos_x_ph:pos_x, pos_y_ph:pos_y, z_sz_ph:z_sz})\n",
    "            template_z_=(1-hp.z_lr)*template_z_ + hp.z_lr*np.squeeze(new_template_z_)\n",
    "        \n",
    "        # update template patch size\n",
    "        z_sz = (1-hp.scale_lr)*z_sz + hp.scale_lr*scaled_exemplar[new_scale_id]\n",
    "        \n",
    "        if run.visualization:\n",
    "            show_frame(image_, bboxes[i,:], 1)        \n",
    "\n",
    "    t_elapsed = time.time() - t_start\n",
    "    speed = (num_frames-evaluation.start_frame+1)/t_elapsed\n",
    "    print 'Speed: '+str(speed)\n",
    "    # Finish off the filename queue coordinator.\n",
    "    coord.request_stop()\n",
    "    coord.join(threads) "
   ]
  },
  {
   "cell_type": "code",
   "execution_count": 12,
   "metadata": {},
   "outputs": [],
   "source": [
    "plt.close('all')"
   ]
  },
  {
   "cell_type": "code",
   "execution_count": null,
   "metadata": {
    "collapsed": true
   },
   "outputs": [],
   "source": []
  }
 ],
 "metadata": {
  "kernelspec": {
   "display_name": "tensorflow",
   "language": "python",
   "name": "tensorflow"
  },
  "language_info": {
   "codemirror_mode": {
    "name": "ipython",
    "version": 2
   },
   "file_extension": ".py",
   "mimetype": "text/x-python",
   "name": "python",
   "nbconvert_exporter": "python",
   "pygments_lexer": "ipython2",
   "version": "2.7.6"
  }
 },
 "nbformat": 4,
 "nbformat_minor": 2
}
