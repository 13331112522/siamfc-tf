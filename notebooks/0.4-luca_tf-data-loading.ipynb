{
 "cells": [
  {
   "cell_type": "code",
   "execution_count": 1,
   "metadata": {},
   "outputs": [
    {
     "name": "stdout",
     "output_type": "stream",
     "text": [
      "Using Tensorflow 1.1.0\n"
     ]
    }
   ],
   "source": [
    "import tensorflow as tf\n",
    "print('Using Tensorflow '+tf.__version__)\n",
    "assert tf.__version__>='1.0.0', ('You should use Tensorflow 1.0 or superior')\n",
    "from PIL import Image\n",
    "import sys\n",
    "sys.path.append('../')\n",
    "import os.path\n",
    "import csv\n",
    "import numpy as np"
   ]
  },
  {
   "cell_type": "code",
   "execution_count": 2,
   "metadata": {},
   "outputs": [],
   "source": [
    "from src.argparse import argparse\n",
    "from src.region_to_bbox import region_to_bbox\n",
    "from src.pprint_params import pprint_params\n",
    "from src.crops import *\n",
    "from src.siamese import siamese\n",
    "from src.visualization import *"
   ]
  },
  {
   "cell_type": "code",
   "execution_count": 3,
   "metadata": {
    "collapsed": true
   },
   "outputs": [],
   "source": [
    "# read default parameters and override with custom ones\n",
    "hp = {\"z_lr\":0}\n",
    "evaluation = {\"video\": \"vot2016_ball1\"}\n",
    "run = {\"visualization\":1,\"debug\":0}\n",
    "hp,evaluation,run,env,design = argparse(hp, evaluation, run)"
   ]
  },
  {
   "cell_type": "code",
   "execution_count": 4,
   "metadata": {},
   "outputs": [],
   "source": [
    "video_folder = os.path.join(env.root_dataset, evaluation.dataset, evaluation.video)\n",
    "frame_name_list = [f for f in os.listdir(video_folder) if f.endswith(\".jpg\")]\n",
    "frame_name_list = [os.path.join(env.root_dataset, evaluation.dataset, evaluation.video, '') + s for s in frame_name_list]\n",
    "frame_name_list.sort()\n",
    "num_frames = np.size(frame_name_list)\n",
    "\n",
    "with Image.open(frame_name_list[0]) as img:\n",
    "    frame_sz = np.asarray(img.size)\n",
    "    frame_sz[1], frame_sz[0] = frame_sz[0], frame_sz[1]"
   ]
  },
  {
   "cell_type": "code",
   "execution_count": 5,
   "metadata": {
    "collapsed": true
   },
   "outputs": [],
   "source": [
    "# read the initialization from ground truth\n",
    "gt_file = os.path.join(video_folder, 'groundtruth.txt')\n",
    "gt = np.genfromtxt(gt_file, delimiter=',')\n",
    "assert len(gt) == len(frame_name_list), ('Number of frames and number of GT lines should be equal.')\n",
    "# stores tracker's output for evaluation\n",
    "bboxes = np.zeros((num_frames,4))"
   ]
  },
  {
   "cell_type": "code",
   "execution_count": 6,
   "metadata": {
    "collapsed": true
   },
   "outputs": [],
   "source": [
    "scale_factors = hp.scale_step**np.linspace(-np.ceil(hp.scale_num/2), np.ceil(hp.scale_num/2), hp.scale_num)\n",
    "# cosine window to penalize large displacements\n",
    "final_score_sz = int(hp.response_up * design.score_sz)\n",
    "hann_1d = np.expand_dims(np.hanning(final_score_sz), axis=0)\n",
    "penalty = np.transpose(hann_1d) * hann_1d\n",
    "penalty = penalty / np.sum(penalty)"
   ]
  },
  {
   "cell_type": "code",
   "execution_count": 7,
   "metadata": {},
   "outputs": [],
   "source": [
    "## tracker's state initializations\n",
    "# bbox is in format <cx,cy,w,h>\n",
    "pos_x,pos_y,target_w,target_h = region_to_bbox(gt[evaluation.start_frame])\n",
    "context = design.context*(target_w+target_h)\n",
    "z_sz = np.sqrt(np.prod((target_w+context)*(target_h+context)))\n",
    "x_sz = design.search_sz/design.exemplar_sz * z_sz"
   ]
  },
  {
   "cell_type": "code",
   "execution_count": 8,
   "metadata": {
    "collapsed": true
   },
   "outputs": [],
   "source": [
    "# thresholds to saturate patches shrinking/growing\n",
    "min_z = hp.scale_min * z_sz\n",
    "max_z = hp.scale_max * z_sz\n",
    "min_x = hp.scale_min * x_sz\n",
    "max_x = hp.scale_max * x_sz"
   ]
  },
  {
   "cell_type": "code",
   "execution_count": 9,
   "metadata": {
    "collapsed": true
   },
   "outputs": [],
   "source": [
    "#### DEFINE PLACEHOLDERS ####\n",
    "pos_x_ph = tf.placeholder(tf.float64)\n",
    "pos_y_ph = tf.placeholder(tf.float64)\n",
    "z_sz_ph = tf.placeholder(tf.float64)\n",
    "x_sz0_ph = tf.placeholder(tf.float64)\n",
    "x_sz1_ph = tf.placeholder(tf.float64)\n",
    "x_sz2_ph = tf.placeholder(tf.float64)"
   ]
  },
  {
   "cell_type": "code",
   "execution_count": 10,
   "metadata": {
    "scrolled": true
   },
   "outputs": [
    {
     "name": "stdout",
     "output_type": "stream",
     "text": [
      "> Layer 1\n",
      "\t\tCONV: setting br_conv1f br_conv1b\n",
      "\t\tCONV: stride 2, filter-group False\n",
      "\t\tBNORM: setting br_bn1b br_bn1m br_bn1x\n",
      "\t\tMAX-POOL: size 3 and stride 2\n",
      "> Layer 2\n",
      "\t\tCONV: setting br_conv2f br_conv2b\n",
      "\t\tCONV: stride 1, filter-group True\n",
      "\t\tBNORM: setting br_bn2b br_bn2m br_bn2x\n",
      "\t\tMAX-POOL: size 3 and stride 1\n",
      "> Layer 3\n",
      "\t\tCONV: setting br_conv3f br_conv3b\n",
      "\t\tCONV: stride 1, filter-group False\n",
      "\t\tBNORM: setting br_bn3b br_bn3m br_bn3x\n",
      "> Layer 4\n",
      "\t\tCONV: setting br_conv4f br_conv4b\n",
      "\t\tCONV: stride 1, filter-group True\n",
      "\t\tBNORM: setting br_bn4b br_bn4m br_bn4x\n",
      "> Layer 5\n",
      "\t\tCONV: setting br_conv5f br_conv5b\n",
      "\t\tCONV: stride 1, filter-group True\n"
     ]
    }
   ],
   "source": [
    "#### BUILD THE GRAPH #####\n",
    "\n",
    "# Make a queue of file names\n",
    "filename_queue = tf.train.string_input_producer(frame_name_list, shuffle=False, capacity=num_frames)\n",
    "\n",
    "image_reader = tf.WholeFileReader()\n",
    "# Read a whole file from the queue\n",
    "_, image_file = image_reader.read(filename_queue)\n",
    "\n",
    "# Decode the image as a JPEG file, this will turn it into a Tensor\n",
    "image = tf.cast(tf.image.decode_jpeg(image_file), tf.int32)\n",
    "\n",
    "# used to pad the crops\n",
    "avg_chan = tf.cast(tf.reduce_mean(image, axis=(0,1)), tf.int32)\n",
    "\n",
    "# pad with avg color if necessary\n",
    "frame_padded_z, npad_z = pad_frame(image, frame_sz, pos_x_ph, pos_y_ph, z_sz_ph, avg_chan);\n",
    "\n",
    "# extract tensor of z_crops (all identical)\n",
    "z_crops = extract_crops_z(frame_padded_z, npad_z, pos_x_ph, pos_y_ph, z_sz_ph, design.exemplar_sz)\n",
    "\n",
    "frame_padded_x, npad_x = pad_frame(image, frame_sz, pos_x_ph, pos_y_ph, x_sz2_ph, avg_chan);\n",
    "\n",
    "# extract tensor of x_crops (3 scales)\n",
    "x_crops = extract_crops_x(frame_padded_x, npad_x, pos_x_ph, pos_y_ph, x_sz0_ph, x_sz1_ph, x_sz2_ph, design.search_sz)\n",
    "\n",
    "# use crops as input of (MatConvnet imported) pre-trained fully-convolutional Siamese net\n",
    "scores = siamese(os.path.join(env.root_pretrained,design.net), x_crops, z_crops)\n",
    "\n",
    "# upsample the score maps\n",
    "scores_up = tf.image.resize_images(scores, [final_score_sz, final_score_sz])"
   ]
  },
  {
   "cell_type": "code",
   "execution_count": 11,
   "metadata": {
    "scrolled": true
   },
   "outputs": [
    {
     "name": "stderr",
     "output_type": "stream",
     "text": [
      "/usr/lib/pymodules/python2.7/matplotlib/backend_bases.py:2407: MatplotlibDeprecationWarning: Using default event loop until function specific to this GUI is implemented\n",
      "  warnings.warn(str, mplDeprecation)\n"
     ]
    },
    {
     "name": "stdout",
     "output_type": "stream",
     "text": [
      "(494.182446315, 401.371802097, 41.0, 43.0)\n",
      "(495.5, 386.878711564, 41.0, 43.0)\n",
      "(496.817553685, 377.65583577, 41.0, 43.0)\n",
      "(495.995090641, 371.705443629, 40.0696153846, 42.0242307692)\n",
      "(497.282745993, 367.842477576, 40.0696153846, 42.0242307692)\n",
      "(498.570401344, 366.554822225, 40.0696153846, 42.0242307692)\n",
      "(500.283472844, 368.290071092, 39.1603433432, 41.0706039941)\n",
      "(501.541908324, 374.582248491, 39.1603433432, 41.0706039941)\n",
      "(502.800343804, 380.87442589, 39.1603433432, 41.0706039941)\n"
     ]
    }
   ],
   "source": [
    "#### START TRACKING WITHIN A TF SESSION ####\n",
    "\n",
    "with tf.Session() as sess:\n",
    "    tf.global_variables_initializer().run()\n",
    "    # Coordinate the loading of image files.\n",
    "    coord = tf.train.Coordinator()\n",
    "    threads = tf.train.start_queue_runners(coord=coord)\n",
    "    \n",
    "    # save first frame position (from ground-truth)\n",
    "    bboxes[0,:] = np.asarray((pos_x,pos_y,target_w,target_h))\n",
    "    \n",
    "    image_, z_crops_ = sess.run([image, z_crops], feed_dict={\n",
    "                                    pos_x_ph:pos_x,\n",
    "                                    pos_y_ph:pos_y,\n",
    "                                    z_sz_ph:z_sz})\n",
    "    \n",
    "    if run.visualization:\n",
    "        show_frame(image_, bboxes[0,:], 1)\n",
    "        \n",
    "    if run.debug:\n",
    "        show_crops(z_crops_, 2)        \n",
    "\n",
    "    # Get an image from the queue\n",
    "    for i in xrange(evaluation.start_frame+1, 10):        \n",
    "        scaled_exemplar = z_sz * scale_factors\n",
    "        scaled_search_area = x_sz * scale_factors\n",
    "        scaled_target_w = target_w * scale_factors\n",
    "        scaled_target_h = target_h * scale_factors\n",
    "        \n",
    "        x_crops_ = sess.run([x_crops], feed_dict={\n",
    "                                pos_x_ph:pos_x,\n",
    "                                pos_y_ph:pos_y,\n",
    "                                x_sz0_ph:scaled_search_area[0],\n",
    "                                x_sz1_ph:scaled_search_area[1],\n",
    "                                x_sz2_ph:scaled_search_area[2]})\n",
    "        \n",
    "        scores_up_ = sess.run([scores_up], feed_dict={\n",
    "                                        z_crops: z_crops_,\n",
    "                                        x_crops: np.squeeze(x_crops_),\n",
    "                                    })                \n",
    "        if run.debug:\n",
    "            show_crops(np.squeeze(x_crops_), 3)\n",
    "            show_scores(np.squeeze(scores_up_), 4)\n",
    "            \n",
    "        scores = np.squeeze(scores_up_)\n",
    "        # penalize change of scale\n",
    "        scores[0,:,:] = hp.scale_penalty*scores[0,:,:]\n",
    "        scores[2,:,:] = hp.scale_penalty*scores[2,:,:]\n",
    "        # find scale with highest peak (after penalty)\n",
    "        new_scale_id = np.argmax(np.amax(scores, axis=(1,2)))\n",
    "        # update scaled sizes\n",
    "        x_sz = (1-hp.scale_lr)*x_sz + hp.scale_lr*scaled_search_area[new_scale_id]\n",
    "        z_sz = (1-hp.scale_lr)*z_sz + hp.scale_lr*scaled_exemplar[new_scale_id]\n",
    "        target_w = (1-hp.scale_lr)*target_w + hp.scale_lr*scaled_target_w[new_scale_id]\n",
    "        target_h = (1-hp.scale_lr)*target_h + hp.scale_lr*scaled_target_h[new_scale_id]\n",
    "        # select response with new_scale_id\n",
    "        score = scores[new_scale_id,:,:]\n",
    "        score = score - np.min(score)\n",
    "        # apply displacement penalty\n",
    "        score = (1-hp.window_influence)*score + hp.window_influence*penalty\n",
    "        # find location of score maximizer\n",
    "        p = np.asarray(np.unravel_index(np.argmax(score), np.shape(score)))\n",
    "        # displacement from the center in search area final representation ...\n",
    "        disp_in_area = p - float(final_score_sz)/2\n",
    "        # displacement from the center in instance crop\n",
    "        disp_in_xcrop = disp_in_area * float(design.tot_stride) / hp.response_up\n",
    "        # displacement from the center in instance crop (in frame coordinates)\n",
    "        disp_in_frame = disp_in_xcrop *  x_sz / design.search_sz\n",
    "        # *position* within frame in frame coordinates\n",
    "        pos_y, pos_x = pos_y + disp_in_frame[0], pos_x + disp_in_frame[1]\n",
    "        # convert <cx,cy,w,h> to <x,y,w,h> and save output\n",
    "        bboxes[i,:] = pos_x-target_w/2, pos_y-target_h/2, target_w, target_h\n",
    "        print '('+str(bboxes[i,0])+', '+str(bboxes[i,1])+', '+str(bboxes[i,2])+', '+str(bboxes[i,3])+')'\n",
    "        \n",
    "        if run.visualization:\n",
    "            show_frame(image_, bboxes[i,:], 1)        \n",
    "        \n",
    "    # Finish off the filename queue coordinator.\n",
    "    coord.request_stop()\n",
    "    coord.join(threads) "
   ]
  },
  {
   "cell_type": "code",
   "execution_count": 12,
   "metadata": {
    "collapsed": true
   },
   "outputs": [],
   "source": [
    "plt.close('all')"
   ]
  }
 ],
 "metadata": {
  "kernelspec": {
   "display_name": "tensorflow",
   "language": "python",
   "name": "tensorflow"
  },
  "language_info": {
   "codemirror_mode": {
    "name": "ipython",
    "version": 2
   },
   "file_extension": ".py",
   "mimetype": "text/x-python",
   "name": "python",
   "nbconvert_exporter": "python",
   "pygments_lexer": "ipython2",
   "version": "2.7.6"
  }
 },
 "nbformat": 4,
 "nbformat_minor": 2
}
