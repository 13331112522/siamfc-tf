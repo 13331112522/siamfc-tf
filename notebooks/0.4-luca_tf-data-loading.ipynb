{
 "cells": [
  {
   "cell_type": "code",
   "execution_count": null,
   "metadata": {},
   "outputs": [],
   "source": [
    "import tensorflow as tf\n",
    "print('Using Tensorflow '+tf.__version__)\n",
    "assert tf.__version__>='1.0.0', ('You should use Tensorflow 1.0 or superior')\n",
    "import matplotlib;\n",
    "from PIL import Image\n",
    "import sys\n",
    "sys.path.append('../')\n",
    "import os.path\n",
    "import csv\n",
    "import numpy as np"
   ]
  },
  {
   "cell_type": "code",
   "execution_count": null,
   "metadata": {
    "collapsed": true
   },
   "outputs": [],
   "source": [
    "from src.argparse import argparse\n",
    "from src.region_to_bbox import region_to_bbox\n",
    "from src.pprint_params import pprint_params\n",
    "from src.crops import *\n",
    "from src.siamese import import_siamese\n",
    "from src.visualization import *"
   ]
  },
  {
   "cell_type": "code",
   "execution_count": null,
   "metadata": {
    "collapsed": true
   },
   "outputs": [],
   "source": [
    "hp = {\"z_lr\":0}\n",
    "evaluation = {\"video\": \"vot2016_ball1\"}\n",
    "run = {\"visualization\":1,\"debug\":1}\n",
    "hp,evaluation,run,env,design = argparse(hp, evaluation, run)"
   ]
  },
  {
   "cell_type": "code",
   "execution_count": null,
   "metadata": {},
   "outputs": [],
   "source": [
    "video_folder = os.path.join(env.root_dataset, evaluation.dataset, evaluation.video)\n",
    "frame_name_list = [f for f in os.listdir(video_folder) if f.endswith(\".jpg\")]\n",
    "frame_name_list = [os.path.join(env.root_dataset, evaluation.dataset, evaluation.video, '') + s for s in frame_name_list]\n",
    "frame_name_list.sort()\n",
    "num_frames = np.size(frame_name_list)\n",
    "\n",
    "with Image.open(frame_name_list[0]) as img:\n",
    "    frame_sz = np.asarray(img.size)\n",
    "    frame_sz[1], frame_sz[0] = frame_sz[0], frame_sz[1]"
   ]
  },
  {
   "cell_type": "code",
   "execution_count": null,
   "metadata": {
    "collapsed": true
   },
   "outputs": [],
   "source": [
    "# read the initialization from ground truth\n",
    "gt_file = os.path.join(video_folder, 'groundtruth.txt')\n",
    "gt = np.genfromtxt(gt_file, delimiter=',')\n",
    "assert len(gt) == len(frame_name_list), ('Number of frames and number of GT lines should be equal.')\n",
    "# bbox is in format <cx,cy,w,h>\n",
    "init_bbox = region_to_bbox(gt[evaluation.start_frame])\n",
    "# stores tracker's output for evaluation\n",
    "bboxes = np.zeros((num_frames,4))"
   ]
  },
  {
   "cell_type": "code",
   "execution_count": null,
   "metadata": {
    "collapsed": true
   },
   "outputs": [],
   "source": [
    "scale_factors = hp.scale_step**np.linspace(-np.ceil(hp.scale_num/2), np.ceil(hp.scale_num/2), hp.scale_num)\n",
    "# cosine window to penalize large displacements\n",
    "hann_1d = np.expand_dims(np.hanning(design.score_sz*hp.response_up), axis=0)\n",
    "penalty = np.transpose(hann_1d) * hann_1d\n",
    "penalty = penalty / np.sum(penalty)"
   ]
  },
  {
   "cell_type": "code",
   "execution_count": null,
   "metadata": {},
   "outputs": [],
   "source": [
    "# tracker's state initializations\n",
    "pos = [init_bbox[1],init_bbox[0]]\n",
    "target_sz = [init_bbox[3],init_bbox[2]]\n",
    "context = design.context*sum(target_sz)\n",
    "crop_sz = target_sz + context\n",
    "z_sz = np.sqrt(np.prod(crop_sz))\n",
    "x_sz = design.search_sz/design.exemplar_sz * z_sz\n",
    "scaled_exemplar = z_sz * scale_factors\n",
    "scaled_search_area = x_sz * scale_factors"
   ]
  },
  {
   "cell_type": "code",
   "execution_count": null,
   "metadata": {
    "collapsed": true
   },
   "outputs": [],
   "source": [
    "# thresholds to saturate patches shrinking/growing\n",
    "min_z = hp.scale_min * z_sz\n",
    "max_z = hp.scale_max * z_sz\n",
    "min_x = hp.scale_min * x_sz\n",
    "max_x = hp.scale_max * x_sz"
   ]
  },
  {
   "cell_type": "code",
   "execution_count": null,
   "metadata": {
    "collapsed": true
   },
   "outputs": [],
   "source": [
    "#### DEFINE PLACEHOLDERS ####\n",
    "pos_x_ph = tf.placeholder(tf.float64)\n",
    "pos_y_ph = tf.placeholder(tf.float64)\n",
    "z_sz_ph = tf.placeholder(tf.float64)\n",
    "x_sz0_ph = tf.placeholder(tf.float64)\n",
    "x_sz1_ph = tf.placeholder(tf.float64)\n",
    "x_sz2_ph = tf.placeholder(tf.float64)"
   ]
  },
  {
   "cell_type": "code",
   "execution_count": null,
   "metadata": {
    "scrolled": true
   },
   "outputs": [],
   "source": [
    "#### BUILD THE GRAPH #####\n",
    "\n",
    "# Make a queue of file names\n",
    "filename_queue = tf.train.string_input_producer(frame_name_list, shuffle=False, capacity=num_frames)\n",
    "\n",
    "image_reader = tf.WholeFileReader()\n",
    "# Read a whole file from the queue\n",
    "_, image_file = image_reader.read(filename_queue)\n",
    "\n",
    "# Decode the image as a JPEG file, this will turn it into a Tensor\n",
    "image = tf.cast(tf.image.decode_jpeg(image_file), tf.int32)\n",
    "\n",
    "# used to pad the crops\n",
    "avg_chan = tf.cast(tf.reduce_mean(image, axis=(0,1)), tf.int32)\n",
    "\n",
    "# pad with avg color if necessary\n",
    "frame_padded_z, npad_z = pad_frame(image, frame_sz, pos_x_ph, pos_y_ph, z_sz_ph, avg_chan);\n",
    "\n",
    "# extract tensor of z_crops (all identical)\n",
    "z_crops = extract_crops_z(frame_padded_z, npad_z, pos_x_ph, pos_y_ph, z_sz_ph, design.exemplar_sz)\n",
    "\n",
    "frame_padded_x, npad_x = pad_frame(image, frame_sz, pos_x_ph, pos_y_ph, x_sz2_ph, avg_chan);\n",
    "\n",
    "# extract tensor of x_crops (3 scales)\n",
    "x_crops = extract_crops_x(frame_padded_x, npad_x, pos_x_ph, pos_y_ph, x_sz0_ph, x_sz1_ph, x_sz2_ph, design.search_sz)"
   ]
  },
  {
   "cell_type": "code",
   "execution_count": null,
   "metadata": {
    "scrolled": true
   },
   "outputs": [],
   "source": [
    "#### START TRACKING WITHIN A TF SESSION ####\n",
    "\n",
    "with tf.Session() as sess:\n",
    "    tf.global_variables_initializer().run()\n",
    "    # Coordinate the loading of image files.\n",
    "    coord = tf.train.Coordinator()\n",
    "    threads = tf.train.start_queue_runners(coord=coord)\n",
    "    \n",
    "    image_, z_crops_ = sess.run([image, z_crops], feed_dict={\n",
    "                                    pos_x_ph:pos[1],\n",
    "                                    pos_y_ph:pos[0],\n",
    "                                    z_sz_ph:scaled_exemplar[1]})\n",
    "    \n",
    "    if run.visualization:\n",
    "        show_frame(image_, 1)\n",
    "        \n",
    "    if run.debug:\n",
    "        show_crops(z_crops_, 2)        \n",
    "\n",
    "    # Get an image tensor from the queue\n",
    "    for i in xrange(evaluation.start_frame, 5):\n",
    "        x_crops_ = sess.run([x_crops], feed_dict={\n",
    "                                pos_x_ph:pos[1],\n",
    "                                pos_y_ph:pos[0],\n",
    "                                x_sz0_ph:scaled_search_area[0],\n",
    "                                x_sz1_ph:scaled_search_area[1],\n",
    "                                x_sz2_ph:scaled_search_area[2]})\n",
    "        if run.debug:\n",
    "            show_crops(np.squeeze(x_crops_), 3)\n",
    "        \n",
    "        \n",
    "    # Finish off the filename queue coordinator.\n",
    "    coord.request_stop()\n",
    "    coord.join(threads) "
   ]
  },
  {
   "cell_type": "code",
   "execution_count": null,
   "metadata": {
    "collapsed": true
   },
   "outputs": [],
   "source": [
    "plt.close('all')"
   ]
  }
 ],
 "metadata": {
  "kernelspec": {
   "display_name": "tensorflow",
   "language": "python",
   "name": "tensorflow"
  },
  "language_info": {
   "codemirror_mode": {
    "name": "ipython",
    "version": 2
   },
   "file_extension": ".py",
   "mimetype": "text/x-python",
   "name": "python",
   "nbconvert_exporter": "python",
   "pygments_lexer": "ipython2",
   "version": "2.7.6"
  }
 },
 "nbformat": 4,
 "nbformat_minor": 2
}
