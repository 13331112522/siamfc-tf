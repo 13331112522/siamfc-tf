{
 "cells": [
  {
   "cell_type": "code",
   "execution_count": null,
   "metadata": {
    "collapsed": true
   },
   "outputs": [],
   "source": [
    "# global packages\n",
    "%matplotlib inline\n",
    "import tensorflow as tf\n",
    "import numpy as np\n",
    "import matplotlib.pyplot as plt\n",
    "from os import path\n",
    "import sys\n",
    "sys.path.append('../')\n",
    "\n",
    "assert tf.__version__>='1.0.0', ('You should use Tensorflow 1.0 or superior')"
   ]
  },
  {
   "cell_type": "code",
   "execution_count": null,
   "metadata": {
    "collapsed": true
   },
   "outputs": [],
   "source": [
    "#net_path = '../pretrained/xc_conv5_32c_s4_e40.mat'\n",
    "net_path = '../pretrained/baseline-conv5_e55.mat'\n",
    "root_path = '/home/berti/ILSVRC2015_crops_90/Data/VID/train'\n",
    "video_path = 'b/ILSVRC2015_train_00033007'\n",
    "crop_x = '000050.00.crop.x.jpg'\n",
    "crop_z = '000000.00.crop.z.jpg'\n",
    "im_x = np.expand_dims(plt.imread(path.join(root_path, video_path, crop_x)), 0)\n",
    "im_z = np.expand_dims(plt.imread(path.join(root_path, video_path, crop_z)), 0)\n",
    "pyramid_x = np.concatenate((im_x,im_x,im_x),axis=0)\n",
    "pyramid_z = np.concatenate((im_z,im_z,im_z),axis=0)"
   ]
  },
  {
   "cell_type": "code",
   "execution_count": null,
   "metadata": {},
   "outputs": [],
   "source": [
    "from src.siamese import import_siamese\n",
    "X = tf.placeholder(tf.float32)\n",
    "Z = tf.placeholder(tf.float32)\n",
    "net = import_siamese(net_path, X, Z)"
   ]
  },
  {
   "cell_type": "code",
   "execution_count": null,
   "metadata": {
    "collapsed": true
   },
   "outputs": [],
   "source": [
    "# evaluate the network\n",
    "with tf.Session() as sess:\n",
    "    test_writer = tf.summary.FileWriter('./logs', sess.graph)\n",
    "    sess.run(tf.global_variables_initializer())\n",
    "    out = sess.run(net, feed_dict={X:pyramid_x, Z:pyramid_z})\n",
    "#     out_z, out_x = sess.run([net_z, net_x], feed_dict={X:pyramid_x, Z:pyramid_z})"
   ]
  },
  {
   "cell_type": "code",
   "execution_count": null,
   "metadata": {},
   "outputs": [],
   "source": [
    "# check the output\n",
    "print out.shape\n",
    "print np.mean(out)\n",
    "print np.max(out)\n",
    "print np.min(out)\n",
    "plt.imshow(out[2, :, :, 0], interpolation='none', cmap='hot')"
   ]
  },
  {
   "cell_type": "code",
   "execution_count": null,
   "metadata": {
    "collapsed": true
   },
   "outputs": [],
   "source": []
  },
  {
   "cell_type": "code",
   "execution_count": null,
   "metadata": {
    "collapsed": true
   },
   "outputs": [],
   "source": []
  }
 ],
 "metadata": {
  "anaconda-cloud": {},
  "kernelspec": {
   "display_name": "tensorflow",
   "language": "python",
   "name": "tensorflow"
  },
  "language_info": {
   "codemirror_mode": {
    "name": "ipython",
    "version": 2
   },
   "file_extension": ".py",
   "mimetype": "text/x-python",
   "name": "python",
   "nbconvert_exporter": "python",
   "pygments_lexer": "ipython2",
   "version": "2.7.6"
  }
 },
 "nbformat": 4,
 "nbformat_minor": 1
}
