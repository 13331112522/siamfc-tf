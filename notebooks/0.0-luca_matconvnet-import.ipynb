{
 "cells": [
  {
   "cell_type": "code",
   "execution_count": 1,
   "metadata": {
    "collapsed": true
   },
   "outputs": [],
   "source": [
    "# global packages\n",
    "%matplotlib inline\n",
    "import tensorflow as tf\n",
    "import numpy as np\n",
    "import matplotlib.pyplot as plt\n",
    "from os import path\n",
    "import sys\n",
    "sys.path.append('../')\n",
    "\n",
    "assert tf.__version__>='1.0.0', ('You should use Tensorflow 1.0 or superior')"
   ]
  },
  {
   "cell_type": "code",
   "execution_count": 2,
   "metadata": {
    "collapsed": true
   },
   "outputs": [],
   "source": [
    "#net_path = '../pretrained/xc_conv5_32c_s4_e40.mat'\n",
    "net_path = '../pretrained/baseline-conv5_e55.mat'\n",
    "root_path = '/home/berti/ILSVRC2015_crops_90/Data/VID/train'\n",
    "video_path = 'b/ILSVRC2015_train_00033007'\n",
    "crop_x = '000050.00.crop.x.jpg'\n",
    "crop_z = '000000.00.crop.z.jpg'\n",
    "im_x = np.expand_dims(plt.imread(path.join(root_path, video_path, crop_x)), 0)\n",
    "im_z = np.expand_dims(plt.imread(path.join(root_path, video_path, crop_z)), 0)\n",
    "pyramid_x = np.concatenate((im_x,im_x,im_x),axis=0)\n",
    "pyramid_z = np.concatenate((im_z,im_z,im_z),axis=0)"
   ]
  },
  {
   "cell_type": "code",
   "execution_count": 3,
   "metadata": {},
   "outputs": [
    {
     "name": "stdout",
     "output_type": "stream",
     "text": [
      "> Layer 1\n",
      "\t\tCONV: setting br_conv1f br_conv1b\n",
      "\t\tCONV: stride 2, filter-group False\n",
      "\t\tBNORM: setting br_bn1b br_bn1m br_bn1x\n",
      "\t\tMAX-POOL: size 3 and stride 2\n",
      "> Layer 2\n",
      "\t\tCONV: setting br_conv2f br_conv2b\n",
      "\t\tCONV: stride 1, filter-group True\n",
      "\t\tBNORM: setting br_bn2b br_bn2m br_bn2x\n",
      "\t\tMAX-POOL: size 3 and stride 1\n",
      "> Layer 3\n",
      "\t\tCONV: setting br_conv3f br_conv3b\n",
      "\t\tCONV: stride 1, filter-group False\n",
      "\t\tBNORM: setting br_bn3b br_bn3m br_bn3x\n",
      "> Layer 4\n",
      "\t\tCONV: setting br_conv4f br_conv4b\n",
      "\t\tCONV: stride 1, filter-group True\n",
      "\t\tBNORM: setting br_bn4b br_bn4m br_bn4x\n",
      "> Layer 5\n",
      "\t\tCONV: setting br_conv5f br_conv5b\n",
      "\t\tCONV: stride 1, filter-group True\n"
     ]
    }
   ],
   "source": [
    "from src.siamese import import_siamese\n",
    "X = tf.placeholder(tf.float32)\n",
    "Z = tf.placeholder(tf.float32)\n",
    "net = import_siamese(net_path, X, Z)"
   ]
  },
  {
   "cell_type": "code",
   "execution_count": 4,
   "metadata": {},
   "outputs": [],
   "source": [
    "# evaluate the network\n",
    "with tf.Session() as sess:\n",
    "    test_writer = tf.summary.FileWriter('./logs', sess.graph)\n",
    "    sess.run(tf.global_variables_initializer())\n",
    "    out = sess.run(net, feed_dict={X:pyramid_x, Z:pyramid_z})\n",
    "#     out_z, out_x = sess.run([net_z, net_x], feed_dict={X:pyramid_x, Z:pyramid_z})"
   ]
  },
  {
   "cell_type": "code",
   "execution_count": 5,
   "metadata": {},
   "outputs": [
    {
     "name": "stdout",
     "output_type": "stream",
     "text": [
      "(3, 33, 33, 1)\n",
      "-3.66959\n",
      "3.38425\n",
      "-7.06083\n"
     ]
    },
    {
     "data": {
      "text/plain": [
       "<matplotlib.image.AxesImage at 0x7f25ae7a2b50>"
      ]
     },
     "execution_count": 5,
     "metadata": {},
     "output_type": "execute_result"
    },
    {
     "data": {
      "image/png": "[encoded data removed]",
      "text/plain": [
       "<matplotlib.figure.Figure at 0x7f2618141ed0>"
      ]
     },
     "metadata": {},
     "output_type": "display_data"
    }
   ],
   "source": [
    "# check the output\n",
    "print out.shape\n",
    "print np.mean(out)\n",
    "print np.max(out)\n",
    "print np.min(out)\n",
    "plt.imshow(out[2, :, :, 0], interpolation='none', cmap='hot')"
   ]
  },
  {
   "cell_type": "code",
   "execution_count": null,
   "metadata": {
    "collapsed": true
   },
   "outputs": [],
   "source": []
  },
  {
   "cell_type": "code",
   "execution_count": null,
   "metadata": {
    "collapsed": true
   },
   "outputs": [],
   "source": []
  }
 ],
 "metadata": {
  "anaconda-cloud": {},
  "kernelspec": {
   "display_name": "tensorflow",
   "language": "python",
   "name": "tensorflow"
  },
  "language_info": {
   "codemirror_mode": {
    "name": "ipython",
    "version": 2
   },
   "file_extension": ".py",
   "mimetype": "text/x-python",
   "name": "python",
   "nbconvert_exporter": "python",
   "pygments_lexer": "ipython2",
   "version": "2.7.6"
  }
 },
 "nbformat": 4,
 "nbformat_minor": 1
}
