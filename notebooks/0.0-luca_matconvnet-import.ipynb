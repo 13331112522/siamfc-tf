{
 "cells": [
  {
   "cell_type": "code",
   "execution_count": 1,
   "metadata": {
    "collapsed": false
   },
   "outputs": [
    {
     "name": "stderr",
     "output_type": "stream",
     "text": [
      "/home/berti/anaconda2/lib/python2.7/site-packages/matplotlib/font_manager.py:273: UserWarning: Matplotlib is building the font cache using fc-list. This may take a moment.\n",
      "  warnings.warn('Matplotlib is building the font cache using fc-list. This may take a moment.')\n"
     ]
    }
   ],
   "source": [
    "# global packages\n",
    "%matplotlib inline\n",
    "import tensorflow as tf\n",
    "import numpy as np\n",
    "import scipy.io\n",
    "import matplotlib.pyplot as plt\n",
    "from os import path"
   ]
  },
  {
   "cell_type": "code",
   "execution_count": 2,
   "metadata": {
    "collapsed": false
   },
   "outputs": [],
   "source": [
    "assert tf.__version__=='1.0.0', ('You should use Tensorflow 1.0.0')"
   ]
  },
  {
   "cell_type": "code",
   "execution_count": 3,
   "metadata": {
    "collapsed": false
   },
   "outputs": [],
   "source": [
    "# local packages\n",
    "import sys\n",
    "sys.path.append('../')\n",
    "from src.convolutional import *"
   ]
  },
  {
   "cell_type": "code",
   "execution_count": 4,
   "metadata": {
    "collapsed": false
   },
   "outputs": [],
   "source": [
    "# net to import\n",
    "net_path = '../pretrained/xc_conv5_32c_s4_e40.mat'\n",
    "# this is defined manually and should reflect the network to import\n",
    "conv_stride = np.array([2,1,1,1,1])\n",
    "filtergroup_yn = np.array([0,1,0,1,1], dtype=bool)\n",
    "bnorm_yn = np.array([1,1,1,1,0], dtype=bool)\n",
    "relu_yn = np.array([1,1,1,1,0], dtype=bool)\n",
    "pool_stride = np.array([2,1,0,0,0]) # 0 means no pool\n",
    "pool_sz = 3\n",
    "bnorm_adjust = True\n",
    "\n",
    "assert len(conv_stride) == len(filtergroup_yn) == len(bnorm_yn) == len(relu_yn) == len(pool_stride), ('These arrays of flags should have same length')\n",
    "assert all(conv_stride) >= True, ('The number of conv layers is assumed to define the depth of the network')\n",
    "num_layers = len(conv_stride)"
   ]
  },
  {
   "cell_type": "code",
   "execution_count": 5,
   "metadata": {
    "collapsed": true
   },
   "outputs": [],
   "source": [
    "# read mat file from path\n",
    "mat = scipy.io.loadmat(net_path)\n",
    "## This is for .mat files saved with --v7.3\n",
    "# import h5py\n",
    "# net_file = h5py.File(net_path, 'r')\n",
    "# data = f.get('...') \n",
    "net_dot_mat = mat.get('net')"
   ]
  },
  {
   "cell_type": "code",
   "execution_count": 6,
   "metadata": {
    "collapsed": true
   },
   "outputs": [],
   "source": [
    "# organize parameters to import\n",
    "params = net_dot_mat['params']\n",
    "params = params[0][0]\n",
    "params_names = params['name'][0]\n",
    "params_names_list = [params_names[p][0] for p in xrange(params_names.size)]\n",
    "params_values = params['value'][0]\n",
    "params_values_list = [params_values[p] for p in xrange(params_values.size)]"
   ]
  },
  {
   "cell_type": "code",
   "execution_count": 7,
   "metadata": {
    "collapsed": false
   },
   "outputs": [
    {
     "name": "stdout",
     "output_type": "stream",
     "text": [
      "> Layer 1\n",
      "\t\tCONV: setting br_conv1f br_conv1b\n",
      "\t\tCONV: stride 2, filter-group False\n",
      "\t\tBNORM: setting br_bn1b br_bn1m br_bn1x\n",
      "\t\tMAX-POOL: size 3 and stride 2\n",
      "> Layer 2\n",
      "\t\tCONV: setting br_conv2f br_conv2b\n",
      "\t\tCONV: stride 1, filter-group True\n",
      "\t\tBNORM: setting br_bn2b br_bn2m br_bn2x\n",
      "\t\tMAX-POOL: size 3 and stride 1\n",
      "> Layer 3\n",
      "\t\tCONV: setting br_conv3f br_conv3b\n",
      "\t\tCONV: stride 1, filter-group False\n",
      "\t\tBNORM: setting br_bn3b br_bn3m br_bn3x\n",
      "> Layer 4\n",
      "\t\tCONV: setting br_conv4f br_conv4b\n",
      "\t\tCONV: stride 1, filter-group True\n",
      "\t\tBNORM: setting br_bn4b br_bn4m br_bn4x\n",
      "> Layer 5\n",
      "\t\tCONV: setting br_conv5f br_conv5b\n",
      "\t\tCONV: stride 1, filter-group True\n"
     ]
    }
   ],
   "source": [
    "# placeholders for search region crop X and exemplar crop Z\n",
    "X = tf.placeholder(tf.float32)\n",
    "net_x = X\n",
    "# net_x = tf.expand_dims(X, 0)\n",
    "Z = tf.placeholder(tf.float32)\n",
    "net_z = Z\n",
    "# net_z = tf.expand_dims(Z, 0)\n",
    "\n",
    "# find all parameters matching the codename (there should be only one)\n",
    "def find_params(x, params):\n",
    "    matching = [s for s in params if x in s]\n",
    "    assert len(matching)==1, ('Ambiguous param name found')    \n",
    "    return matching\n",
    "\n",
    "# loop through the flag arrays and re-construct network, reading parameters of conv and bnorm layers\n",
    "for i in xrange(num_layers):\n",
    "    print '> Layer '+str(i+1)\n",
    "    # conv\n",
    "    conv_W_name = find_params('conv'+str(i+1)+'f', params_names_list)[0]\n",
    "    conv_b_name = find_params('conv'+str(i+1)+'b', params_names_list)[0]\n",
    "    print '\\t\\tCONV: setting '+conv_W_name+' '+conv_b_name\n",
    "    print '\\t\\tCONV: stride '+str(conv_stride[i])+', filter-group '+str(filtergroup_yn[i])\n",
    "    conv_W = params_values_list[params_names_list.index(conv_W_name)]\n",
    "    conv_b = params_values_list[params_names_list.index(conv_b_name)]\n",
    "    # batchnorm\n",
    "    if bnorm_yn[i]:\n",
    "        bn_beta_name = find_params('bn'+str(i+1)+'b', params_names_list)[0]\n",
    "        bn_gamma_name = find_params('bn'+str(i+1)+'m', params_names_list)[0]\n",
    "        bn_moments_name = find_params('bn'+str(i+1)+'x', params_names_list)[0]\n",
    "        print '\\t\\tBNORM: setting '+bn_beta_name+' '+bn_gamma_name+' '+bn_moments_name\n",
    "        bn_beta = params_values_list[params_names_list.index(bn_beta_name)]\n",
    "        bn_gamma = params_values_list[params_names_list.index(bn_gamma_name)]\n",
    "        bn_moments = params_values_list[params_names_list.index(bn_moments_name)]\n",
    "        bn_moving_mean = bn_moments[:,0]\n",
    "        bn_moving_variance = bn_moments[:,1]**2 # saved as std in matconvnet\n",
    "    else:\n",
    "        bn_beta = bn_gamma = bn_moving_mean = bn_moving_variance = []\n",
    "    \n",
    "    # set up conv \"block\" with bnorm and activation \n",
    "    net_x = set_convolutional(net_x, conv_W, np.swapaxes(conv_b,0,1), conv_stride[i], \\\n",
    "                        bn_beta, bn_gamma, bn_moving_mean, bn_moving_variance, \\\n",
    "                        filtergroup=filtergroup_yn[i], batchnorm=bnorm_yn[i], activation=relu_yn[i], \\\n",
    "                        scope='conv'+str(i+1), reuse=False)\n",
    "    \n",
    "    # notice reuse=True for Siamese parameters sharing\n",
    "    net_z = set_convolutional(net_z, conv_W, np.swapaxes(conv_b,0,1), conv_stride[i], \\\n",
    "                        bn_beta, bn_gamma, bn_moving_mean, bn_moving_variance, \\\n",
    "                        filtergroup=filtergroup_yn[i], batchnorm=bnorm_yn[i], activation=relu_yn[i], \\\n",
    "                        scope='conv'+str(i+1), reuse=True)    \n",
    "    \n",
    "    # add max pool if required\n",
    "    if pool_stride[i]>0:\n",
    "        print '\\t\\tMAX-POOL: size '+str(pool_sz)+ ' and stride '+str(pool_stride[i])\n",
    "        net_x = tf.nn.max_pool(net_x, [1,pool_sz,pool_sz,1], strides=[1,pool_stride[i],pool_stride[i],1], padding='VALID', name='pool'+str(i+1))\n",
    "        net_z = tf.nn.max_pool(net_z, [1,pool_sz,pool_sz,1], strides=[1,pool_stride[i],pool_stride[i],1], padding='VALID', name='pool'+str(i+1))    "
   ]
  },
  {
   "cell_type": "code",
   "execution_count": 8,
   "metadata": {
    "collapsed": false
   },
   "outputs": [],
   "source": [
    "# z is [B, Hz, Wz, C]\n",
    "# x is [B, Hx, Wx, C]\n",
    "net_z = tf.transpose(net_z, perm=[1,2,0,3])\n",
    "net_x = tf.transpose(net_x, perm=[1,2,0,3])\n",
    "# z is [Hz, Wz, B, C]\n",
    "# x is [Hx, Wx, B, C]\n",
    "shape_z = tf.shape(net_z)\n",
    "shape_x = tf.shape(net_x)\n",
    "Hz = shape_z[0]\n",
    "Wz = shape_z[1]\n",
    "B = shape_z[2]\n",
    "C = shape_z[3]\n",
    "Hx = shape_x[0]\n",
    "Wx = shape_x[1]\n",
    "Bx = shape_x[2]\n",
    "Cx = shape_x[3]\n",
    "# assert B==Bx, ('Z and X should have same Batch size')\n",
    "# assert C==Cx, ('Z and X should have same Channels number')\n",
    "net_z = tf.reshape(net_z, (Hz, Wz, B*C, 1))\n",
    "net_x = tf.reshape(net_x, (1, Hx, Wx, B*C))\n",
    "net_final = tf.nn.depthwise_conv2d(net_x, net_z, strides=[1,1,1,1], padding='VALID')\n",
    "# final is [1, Hf, Wf, BC]\n",
    "net_final = tf.concat(tf.split(net_final, 3, axis=3), axis=0)\n",
    "# final is [B, Hf, Wf, C]\n",
    "net_final = tf.reduce_sum(net_final, axis=3)\n",
    "# final is [B, Hf, Wf]"
   ]
  },
  {
   "cell_type": "code",
   "execution_count": 9,
   "metadata": {
    "collapsed": false
   },
   "outputs": [],
   "source": [
    "# test the layer\n",
    "root_path = '/home/berti/ILSVRC2015_crops_90/Data/VID/train'\n",
    "video_path = 'b/ILSVRC2015_train_00033007'\n",
    "crop_x = '000050.00.crop.x.jpg'\n",
    "crop_z = '000000.00.crop.z.jpg'\n",
    "im_x = np.expand_dims(plt.imread(path.join(root_path, video_path, crop_x)), 0)\n",
    "im_z = np.expand_dims(plt.imread(path.join(root_path, video_path, crop_z)), 0)\n",
    "pyramid_x = np.concatenate((im_x,im_x,im_x),axis=0)\n",
    "pyramid_z = np.concatenate((im_z,im_z,im_z),axis=0)"
   ]
  },
  {
   "cell_type": "code",
   "execution_count": 10,
   "metadata": {
    "collapsed": false
   },
   "outputs": [],
   "source": [
    "# pyramid_x.shape\n",
    "# plt.imshow(pyramid_x[0,:,:,:])"
   ]
  },
  {
   "cell_type": "code",
   "execution_count": 11,
   "metadata": {
    "collapsed": false
   },
   "outputs": [],
   "source": [
    "# plt.imshow(pyramid_z[0,:,:,:])"
   ]
  },
  {
   "cell_type": "code",
   "execution_count": 12,
   "metadata": {
    "collapsed": false
   },
   "outputs": [],
   "source": [
    "# evaluate the network\n",
    "with tf.Session() as sess:\n",
    "    test_writer = tf.summary.FileWriter('./logs', sess.graph)\n",
    "    sess.run(tf.global_variables_initializer())\n",
    "    out = sess.run(net_final, feed_dict={X:pyramid_x, Z:pyramid_z})\n",
    "    out_z, out_x = sess.run([net_z, net_x], feed_dict={X:pyramid_x, Z:pyramid_z})"
   ]
  },
  {
   "cell_type": "code",
   "execution_count": 13,
   "metadata": {
    "collapsed": false
   },
   "outputs": [
    {
     "name": "stdout",
     "output_type": "stream",
     "text": [
      "(3, 33, 33)\n",
      "4480.98\n",
      "6167.0\n",
      "3548.36\n"
     ]
    },
    {
     "data": {
      "text/plain": [
       "<matplotlib.image.AxesImage at 0x7fd9f0230b10>"
      ]
     },
     "execution_count": 13,
     "metadata": {},
     "output_type": "execute_result"
    },
    {
     "data": {
      "image/png": "[encoded data removed]",
      "text/plain": [
       "<matplotlib.figure.Figure at 0x7fda035c5c10>"
      ]
     },
     "metadata": {},
     "output_type": "display_data"
    }
   ],
   "source": [
    "# check the output\n",
    "print out.shape\n",
    "print np.mean(out)\n",
    "print np.max(out)\n",
    "print np.min(out)\n",
    "plt.imshow(out[2], interpolation='none', cmap='hot')"
   ]
  },
  {
   "cell_type": "code",
   "execution_count": null,
   "metadata": {
    "collapsed": false
   },
   "outputs": [],
   "source": []
  },
  {
   "cell_type": "code",
   "execution_count": null,
   "metadata": {
    "collapsed": true
   },
   "outputs": [],
   "source": []
  }
 ],
 "metadata": {
  "anaconda-cloud": {},
  "kernelspec": {
   "display_name": "Python [conda root]",
   "language": "python",
   "name": "conda-root-py"
  },
  "language_info": {
   "codemirror_mode": {
    "name": "ipython",
    "version": 2
   },
   "file_extension": ".py",
   "mimetype": "text/x-python",
   "name": "python",
   "nbconvert_exporter": "python",
   "pygments_lexer": "ipython2",
   "version": "2.7.12"
  }
 },
 "nbformat": 4,
 "nbformat_minor": 1
}
