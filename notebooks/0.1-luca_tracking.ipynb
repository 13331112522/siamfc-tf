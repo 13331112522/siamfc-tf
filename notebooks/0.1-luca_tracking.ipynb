{
 "cells": [
  {
   "cell_type": "code",
   "execution_count": null,
   "metadata": {},
   "outputs": [],
   "source": [
    "import tensorflow as tf\n",
    "print('Using Tensorflow '+tf.__version__)\n",
    "assert tf.__version__>='1.0.0', ('You should use Tensorflow 1.0 or superior')"
   ]
  },
  {
   "cell_type": "code",
   "execution_count": null,
   "metadata": {
    "collapsed": true
   },
   "outputs": [],
   "source": [
    "import matplotlib.patches as patches\n",
    "import matplotlib.pyplot as plt\n",
    "import sys\n",
    "sys.path.append('../')\n",
    "import os.path\n",
    "import csv\n",
    "import numpy as np"
   ]
  },
  {
   "cell_type": "code",
   "execution_count": null,
   "metadata": {
    "collapsed": true
   },
   "outputs": [],
   "source": [
    "from src.argparse import argparse\n",
    "from src.region_to_bbox import region_to_bbox\n",
    "from src.pprint_params import pprint_params\n",
    "from src.Tracker import Tracker\n",
    "from src.crops import *"
   ]
  },
  {
   "cell_type": "code",
   "execution_count": null,
   "metadata": {},
   "outputs": [],
   "source": [
    "hp = {\"z_lr\":0}\n",
    "evaluation = {\"video\": \"vot2016_ball1\"}\n",
    "run = {\"visualization\":1}\n",
    "hp,evaluation,run,env,design = argparse(hp, evaluation, run)\n",
    "pprint_params((hp,evaluation,run,env,design),['tracker hyperparams','evaluation','run','environment','design'])"
   ]
  },
  {
   "cell_type": "code",
   "execution_count": null,
   "metadata": {
    "collapsed": true
   },
   "outputs": [],
   "source": [
    "video_folder = os.path.join(env.root_dataset, evaluation.dataset, evaluation.video) \n",
    "gt_file = os.path.join(video_folder, 'groundtruth.txt')\n",
    "gt = np.genfromtxt(gt_file, delimiter=',')\n",
    "# bbox is in format <cx,cy,w,h>\n",
    "init_bbox = region_to_bbox(gt[evaluation.start_frame])\n",
    "frame_name_list = [f for f in os.listdir(video_folder) if f.endswith(\".jpg\")]\n",
    "frame_name_list.sort()\n",
    "assert len(gt) == len(frame_name_list), ('Number of frames and number of GT lines should be equal.')\n",
    "# create an instance of the class Tracker and initialize it with groundtruth\n",
    "first_frame = plt.imread(os.path.join(video_folder, frame_name_list[evaluation.start_frame]))\n",
    "tracker = Tracker(init_bbox, first_frame, design)\n",
    "# used to pad the crops\n",
    "avg_chan = np.mean(tracker.frame, axis=(0,1))\n",
    "# fixed multiplicative factors to scale up/down the target\n",
    "scale_factors = hp.scale_step**np.linspace(-np.ceil(hp.scale_num/2), np.ceil(hp.scale_num/2), hp.scale_num)\n",
    "scaled_exemplar = scale_factors * tracker.z_sz"
   ]
  },
  {
   "cell_type": "code",
   "execution_count": null,
   "metadata": {},
   "outputs": [],
   "source": [
    "tracker.frame_padded, tracker.npad = pad_frame(tracker.frame, tracker.bbox.pos, tracker.z_sz, avg_chan);\n",
    "#plt.imshow(tracker.frame_padded)\n",
    "#plt.show()"
   ]
  },
  {
   "cell_type": "code",
   "execution_count": null,
   "metadata": {
    "collapsed": true
   },
   "outputs": [],
   "source": [
    "tracker.frame_padded = np.expand_dims(tracker.frame_padded, axis=0)"
   ]
  },
  {
   "cell_type": "code",
   "execution_count": null,
   "metadata": {},
   "outputs": [],
   "source": [
    "z_crop = extract_crops(tracker.frame_padded, tracker.npad, tracker.bbox.pos, tracker.z_sz, design.exemplar_sz, 1)"
   ]
  },
  {
   "cell_type": "code",
   "execution_count": null,
   "metadata": {},
   "outputs": [],
   "source": [
    "with tf.Session() as sess:\n",
    "    z = sess.run(z_crop)    "
   ]
  },
  {
   "cell_type": "code",
   "execution_count": null,
   "metadata": {},
   "outputs": [],
   "source": [
    "z = np.squeeze(z, axis=0)\n",
    "plt.imshow(z)\n",
    "plt.show()"
   ]
  },
  {
   "cell_type": "code",
   "execution_count": null,
   "metadata": {
    "collapsed": true
   },
   "outputs": [],
   "source": [
    "# # initialize figure and visualize\n",
    "# if run.visualization:    \n",
    "#     fig, ax = plt.subplots(1)\n",
    "#     r = patches.Rectangle(\n",
    "#         (tracker.bbox.cx-tracker.bbox.w/2, tracker.bbox.cy-tracker.bbox.h/2),\n",
    "#         tracker.bbox.w, tracker.bbox.h,\n",
    "#         linewidth=2, edgecolor='r', fill=False)\n",
    "#     ax.imshow(tracker.frame)\n",
    "#     ax.add_patch(r)\n",
    "#     plt.show()"
   ]
  },
  {
   "cell_type": "code",
   "execution_count": null,
   "metadata": {
    "collapsed": true
   },
   "outputs": [],
   "source": []
  },
  {
   "cell_type": "code",
   "execution_count": null,
   "metadata": {
    "collapsed": true
   },
   "outputs": [],
   "source": []
  }
 ],
 "metadata": {
  "anaconda-cloud": {},
  "kernelspec": {
   "display_name": "tensorflow",
   "language": "python",
   "name": "tensorflow"
  },
  "language_info": {
   "codemirror_mode": {
    "name": "ipython",
    "version": 2
   },
   "file_extension": ".py",
   "mimetype": "text/x-python",
   "name": "python",
   "nbconvert_exporter": "python",
   "pygments_lexer": "ipython2",
   "version": "2.7.6"
  }
 },
 "nbformat": 4,
 "nbformat_minor": 1
}
