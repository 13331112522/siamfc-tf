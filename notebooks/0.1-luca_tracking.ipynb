{
 "cells": [
  {
   "cell_type": "code",
   "execution_count": null,
   "metadata": {
    "collapsed": false
   },
   "outputs": [],
   "source": [
    "# global packages\n",
    "import tensorflow as tf\n",
    "import numpy as np\n",
    "from os import path\n",
    "# %matplotlib inline\n",
    "# import matplotlib.pyplot as plt\n",
    "import sys\n",
    "sys.path.append('../')\n",
    "from src.argparse import argparse\n",
    "from src.pprint_params import pprint_params"
   ]
  },
  {
   "cell_type": "code",
   "execution_count": null,
   "metadata": {
    "collapsed": false
   },
   "outputs": [],
   "source": [
    "hp = {\"z_lr\":0,\"scale_step\":1.02}\n",
    "evaluation = {\"video\": \"vot2016_ball1\"}\n",
    "run = {\"visualization\":1}\n",
    "hp,evaluation,run,env,design = argparse(hp, evaluation, run)\n",
    "pprint_params((hp,evaluation,run,env,design),['hyperparams','evaluation','run','environment','design'])"
   ]
  },
  {
   "cell_type": "code",
   "execution_count": null,
   "metadata": {
    "collapsed": false
   },
   "outputs": [],
   "source": [
    "video_folder = path.join(env.root_dataset,evaluation.dataset,evaluation.video) \n",
    "groundtruth = path.join(video_folder,'grountruth.txt')\n",
    "# initialization = \n",
    "# read all image files\n",
    "# assume that gt is same line as number of jpg\n",
    "\n",
    "# initialize target position and size"
   ]
  }
 ],
 "metadata": {
  "anaconda-cloud": {},
  "kernelspec": {
   "display_name": "Python [conda root]",
   "language": "python",
   "name": "conda-root-py"
  },
  "language_info": {
   "codemirror_mode": {
    "name": "ipython",
    "version": 2
   },
   "file_extension": ".py",
   "mimetype": "text/x-python",
   "name": "python",
   "nbconvert_exporter": "python",
   "pygments_lexer": "ipython2",
   "version": "2.7.12"
  }
 },
 "nbformat": 4,
 "nbformat_minor": 1
}
