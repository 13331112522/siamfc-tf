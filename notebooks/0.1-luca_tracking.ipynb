{
 "cells": [
  {
   "cell_type": "code",
   "execution_count": null,
   "metadata": {},
   "outputs": [],
   "source": [
    "import tensorflow as tf\n",
    "print('Using Tensorflow '+tf.__version__)\n",
    "assert tf.__version__>='1.0.0', ('You should use Tensorflow 1.0 or superior')"
   ]
  },
  {
   "cell_type": "code",
   "execution_count": null,
   "metadata": {},
   "outputs": [],
   "source": [
    "import matplotlib.patches as patches\n",
    "import matplotlib.pyplot as plt\n",
    "#%matplotlib inline"
   ]
  },
  {
   "cell_type": "code",
   "execution_count": null,
   "metadata": {
    "collapsed": true
   },
   "outputs": [],
   "source": [
    "import sys\n",
    "sys.path.append('../')\n",
    "import os.path\n",
    "import csv\n",
    "import numpy as np"
   ]
  },
  {
   "cell_type": "code",
   "execution_count": null,
   "metadata": {
    "collapsed": true
   },
   "outputs": [],
   "source": [
    "from src.argparse import argparse\n",
    "from src.region_to_bbox import region_to_bbox\n",
    "from src.pprint_params import pprint_params\n",
    "from src.Tracker import Tracker\n",
    "from src.crops import *"
   ]
  },
  {
   "cell_type": "code",
   "execution_count": null,
   "metadata": {},
   "outputs": [],
   "source": [
    "hp = {\"z_lr\":0}\n",
    "evaluation = {\"video\": \"vot2016_ball1\"}\n",
    "run = {\"visualization\":1}\n",
    "hp,evaluation,run,env,design = argparse(hp, evaluation, run)\n",
    "pprint_params((hp,evaluation,run,env,design),['tracker hyperparams','evaluation','run','environment','design'])"
   ]
  },
  {
   "cell_type": "code",
   "execution_count": null,
   "metadata": {
    "collapsed": true
   },
   "outputs": [],
   "source": [
    "video_folder = os.path.join(env.root_dataset, evaluation.dataset, evaluation.video)\n",
    "gt_file = os.path.join(video_folder, 'groundtruth.txt')\n",
    "gt = np.genfromtxt(gt_file, delimiter=',')\n",
    "# bbox is in format <cx,cy,w,h>\n",
    "init_bbox = region_to_bbox(gt[evaluation.start_frame])\n",
    "frame_name_list = [f for f in os.listdir(video_folder) if f.endswith(\".jpg\")]\n",
    "frame_name_list.sort()\n",
    "assert len(gt) == len(frame_name_list), ('Number of frames and number of GT lines should be equal.')\n",
    "num_frames = len(gt)\n",
    "bboxes = np.zeros((num_frames,4)) # stores tracker's output for evaluation\n",
    "# create an instance of the class Tracker and initialize it with groundtruth\n",
    "tracker = Tracker(init_bbox, evaluation.start_frame, design, video_folder, frame_name_list)\n",
    "# used to pad the crops\n",
    "avg_chan = np.mean(tracker.frame, axis=(0,1))\n",
    "# fixed multiplicative factors to scale up/down the target\n",
    "scale_factors = hp.scale_step**np.linspace(-np.ceil(hp.scale_num/2), np.ceil(hp.scale_num/2), hp.scale_num)\n",
    "scaled_exemplar = scale_factors * tracker.z_sz\n",
    "min_z = hp.scale_min * tracker.z_sz\n",
    "max_z = hp.scale_max * tracker.z_sz\n",
    "min_x = hp.scale_min * tracker.x_sz\n",
    "max_x = hp.scale_max * tracker.x_sz"
   ]
  },
  {
   "cell_type": "code",
   "execution_count": null,
   "metadata": {},
   "outputs": [],
   "source": [
    "tracker.frame_padded, tracker.npad = pad_frame(tracker.frame, tracker.bbox.pos, tracker.z_sz, avg_chan);\n",
    "# template of the target, will be fed to the graph\n",
    "z_crop = extract_crops(tracker.frame_padded, tracker.npad, tracker.bbox.pos, tracker.z_sz, design.exemplar_sz)"
   ]
  },
  {
   "cell_type": "code",
   "execution_count": null,
   "metadata": {
    "collapsed": true
   },
   "outputs": [],
   "source": [
    "# # debug, visualize crop\n",
    "# with tf.Session() as sess:\n",
    "#     z = sess.run(z_crop)    \n",
    "#     z = np.uint8(np.squeeze(z, axis=0))\n",
    "#     plt.imshow(z)\n",
    "#     plt.show()"
   ]
  },
  {
   "cell_type": "code",
   "execution_count": null,
   "metadata": {
    "collapsed": true
   },
   "outputs": [],
   "source": [
    "# cosine window to penalize large displacements\n",
    "hann_1d = np.expand_dims(np.hanning(design.score_sz*hp.response_up), axis=0)\n",
    "penalty = np.transpose(hann_1d) * hann_1d\n",
    "penalty = penalty / np.sum(penalty)"
   ]
  },
  {
   "cell_type": "code",
   "execution_count": null,
   "metadata": {},
   "outputs": [],
   "source": [
    "# initialize visualization\n",
    "if run.visualization:    \n",
    "    fig = plt.figure()\n",
    "    ax = fig.gca()\n",
    "    fig.show()\n",
    "    ax.imshow(tracker.frame)\n",
    "    fig.canvas.draw()    "
   ]
  },
  {
   "cell_type": "code",
   "execution_count": null,
   "metadata": {},
   "outputs": [],
   "source": [
    "# > store initial bbox\n",
    "for i in xrange(evaluation.start_frame+1, 2):\n",
    "    print 'Frame '+str(i)+'/'+str(num_frames)\n",
    "    # call tracker object to read new img\n",
    "    tracker.get_frame(i, video_folder, frame_name_list)    \n",
    "    scaled_search_area = tracker.x_sz * scale_factors\n",
    "    tracker.frame_padded, tracker.npad = pad_frame(tracker.frame, tracker.bbox.pos, scaled_search_area[-1], avg_chan);\n",
    "    x_crops = extract_crops(tracker.frame_padded, tracker.npad, tracker.bbox.pos, scaled_search_area, design.search_sz)\n",
    "#     if run.visualization:\n",
    "#         ax.imshow(tracker.frame)\n",
    "#         fig.canvas.draw()"
   ]
  },
  {
   "cell_type": "code",
   "execution_count": null,
   "metadata": {
    "collapsed": true
   },
   "outputs": [],
   "source": [
    "# visualize crop\n",
    "with tf.Session() as sess:\n",
    "    x = sess.run(z_crop)    \n",
    "    z = np.uint8(np.squeeze(z, axis=0))\n",
    "    plt.imshow(z)\n",
    "    plt.show()"
   ]
  },
  {
   "cell_type": "code",
   "execution_count": null,
   "metadata": {
    "collapsed": true
   },
   "outputs": [],
   "source": [
    "plt.close('all')"
   ]
  },
  {
   "cell_type": "code",
   "execution_count": null,
   "metadata": {
    "collapsed": true
   },
   "outputs": [],
   "source": [
    "# # initialize figure and visualize\n",
    "# if run.visualization:    \n",
    "#     fig, ax = plt.subplots(1)\n",
    "#     r = patches.Rectangle(\n",
    "#         (tracker.bbox.cx-tracker.bbox.w/2, tracker.bbox.cy-tracker.bbox.h/2),\n",
    "#         tracker.bbox.w, tracker.bbox.h,\n",
    "#         linewidth=2, edgecolor='r', fill=False)\n",
    "#     ax.imshow(tracker.frame)\n",
    "#     ax.add_patch(r)\n",
    "#     plt.show()"
   ]
  },
  {
   "cell_type": "code",
   "execution_count": null,
   "metadata": {
    "collapsed": true
   },
   "outputs": [],
   "source": []
  },
  {
   "cell_type": "code",
   "execution_count": null,
   "metadata": {
    "collapsed": true
   },
   "outputs": [],
   "source": []
  }
 ],
 "metadata": {
  "anaconda-cloud": {},
  "kernelspec": {
   "display_name": "tensorflow",
   "language": "python",
   "name": "tensorflow"
  },
  "language_info": {
   "codemirror_mode": {
    "name": "ipython",
    "version": 2
   },
   "file_extension": ".py",
   "mimetype": "text/x-python",
   "name": "python",
   "nbconvert_exporter": "python",
   "pygments_lexer": "ipython2",
   "version": "2.7.6"
  }
 },
 "nbformat": 4,
 "nbformat_minor": 1
}
